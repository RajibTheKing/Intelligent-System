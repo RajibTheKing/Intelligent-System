{
 "cells": [
  {
   "cell_type": "markdown",
   "metadata": {},
   "source": [
    "# Intelligent Systems\n",
    "# Exercise 1 / Organisation\n",
    "### Working Group: Intelligent Systems\n",
    "### Lecture: Prof. Dr.-Ing. habil.  Sven Tomforde\n",
    "### Exercise: Ma. Sc. Simon Reichhuber (mail to: [Simon.Reichhuber@informatik.uni-kiel.de](mailto:Simon.Reichhuber@informatik.uni-kiel.de))"
   ]
  },
  {
   "cell_type": "markdown",
   "metadata": {},
   "source": [
    "From the university network you can use our iPython notebook server if you like."
   ]
  },
  {
   "cell_type": "markdown",
   "metadata": {},
   "source": [
    "## Introduction to Python"
   ]
  },
  {
   "cell_type": "markdown",
   "metadata": {},
   "source": [
    "In this part of the exercise handbook you will look into the principles of standard techniques and tools used in the field of data analysis and pattern recognition. \n",
    "\n",
    "First a brief introduction on how to use the iPython Notebook, then you will learn a few simple python concepts, followed by a complete test of the vectorization concepts explained during the presentation. Finally you will be presented with a challenge that we propose you to solve using the new tools."
   ]
  },
  {
   "cell_type": "markdown",
   "metadata": {},
   "source": [
    "### iPython Notebook introduction"
   ]
  },
  {
   "cell_type": "markdown",
   "metadata": {},
   "source": [
    "As defined by the iPython Notebook provider: The IPython Notebook is a web-based interactive computational environment where you can combine code execution, text, mathematics, plots and rich media into a single document:\n",
    "\n",
    "These notebooks are normal files that can be shared with colleagues, converted to other formats such as HTML or PDF, etc. You can share any publicly available notebook by using the IPython Notebook Viewer service which will render it as a static web page. This makes it easy to give your colleagues a document they can read immediately without having to install anything.\n",
    "\n",
    "More information can be found in: [iPython](https://ipython.readthedocs.io/en/stable/index.html)\n",
    "\n",
    "Among other things iPython uses interactive boxes where you can execute python commands. The following box is an example of how they look like.\n"
   ]
  },
  {
   "cell_type": "code",
   "execution_count": 1,
   "metadata": {},
   "outputs": [
    {
     "name": "stdout",
     "output_type": "stream",
     "text": [
      "This is a python interactive box\n"
     ]
    }
   ],
   "source": [
    "print(\"This is a python interactive box\")"
   ]
  },
  {
   "cell_type": "markdown",
   "metadata": {},
   "source": [
    "To execute the code in the interactive box simply select the box and pres Shift + Enter to move to the next interactive box, or Ctrl + Enter to execute and stay in the same box. The result will be displayed underneath.\n",
    "\n",
    "Select the previews box and execute the simple print statement.\n",
    "\n",
    "An alternative to pressing the key combination is to use the play button in the tool bar.\n",
    "    \n",
    "    "
   ]
  },
  {
   "cell_type": "markdown",
   "metadata": {},
   "source": [
    "### Introduction to python"
   ]
  },
  {
   "cell_type": "markdown",
   "metadata": {},
   "source": [
    "Python is a programming language that emphasizes in performance and code\n",
    "readability. Programming languages can be grouped in two families, interpreted\n",
    "and compiled. Python sits somewhere in the middle of the two groups. For\n",
    "readability and easy development python behaves more like an interpreted\n",
    "language that does not need to be compiled in order to execute instructions,\n",
    "but does depend on an interpreter. However, Python does some  clever tricks and \n",
    "pre-compiles modules so actually can achieve good performance improvements, and\n",
    "allows to build arbitrarily complex applications. \n",
    "\n",
    "A good introduction into python can be found in the book [Dive into Python](https://diveintopython3.problemsolving.io/) and a more detailed introduction of the techniques explained here can be found in [Practical Data Science in Python](http://radimrehurek.com/data_science_python/)\n",
    "\n",
    "The following blocks will take you quickly through some of the python fundamentals."
   ]
  },
  {
   "cell_type": "code",
   "execution_count": 2,
   "metadata": {},
   "outputs": [
    {
     "data": {
      "text/plain": [
       "' Python supports the triple quoted string. It is defined as an object an \\n    can be assigned to a variable. It is also the only way of doing multi line\\n    comments. The equivalent of /* */ in the C family, however unlike C this\\n    string can be used as a number string object.\\n    \\n    It also preserves the structure of the text.\\n'"
      ]
     },
     "execution_count": 2,
     "metadata": {},
     "output_type": "execute_result"
    }
   ],
   "source": [
    "# This is a comment line. Comments in python start wiht #\n",
    "\"\"\" Python supports the triple quoted string. It is defined as an object an \n",
    "    can be assigned to a variable. It is also the only way of doing multi line\n",
    "    comments. The equivalent of /* */ in the C family, however unlike C this\n",
    "    string can be used as a number string object.\n",
    "    \n",
    "    It also preserves the structure of the text.\n",
    "\"\"\""
   ]
  },
  {
   "cell_type": "code",
   "execution_count": 3,
   "metadata": {},
   "outputs": [
    {
     "name": "stdout",
     "output_type": "stream",
     "text": [
      " Python supports the triple quoted string. It is defined as an object an \n",
      "    can be assigned to a variable. It is also the only way of doing multi line\n",
      "    comments. The equivalent of /* */ in the C family, however unlike C this\n",
      "    string can be used as a number string object.\n",
      "    \n",
      "    It also preserves the structure of the text.  \n",
      "    \n",
      "    Notice how the indentention and the \n",
      " are preserved.\n",
      "\n"
     ]
    }
   ],
   "source": [
    "# That did not look very nice try this:\n",
    "line = \"\"\" Python supports the triple quoted string. It is defined as an object an \n",
    "    can be assigned to a variable. It is also the only way of doing multi line\n",
    "    comments. The equivalent of /* */ in the C family, however unlike C this\n",
    "    string can be used as a number string object.\n",
    "    \n",
    "    It also preserves the structure of the text.  \n",
    "    \n",
    "    Notice how the indentention and the \\n are preserved.\n",
    "\"\"\"\n",
    "print (line)"
   ]
  },
  {
   "cell_type": "code",
   "execution_count": 4,
   "metadata": {},
   "outputs": [
    {
     "name": "stdout",
     "output_type": "stream",
     "text": [
      "<class 'int'> <class 'float'> <class 'str'> <class 'bool'>\n"
     ]
    },
    {
     "data": {
      "text/plain": [
       "['__abs__',\n",
       " '__add__',\n",
       " '__and__',\n",
       " '__bool__',\n",
       " '__ceil__',\n",
       " '__class__',\n",
       " '__delattr__',\n",
       " '__dir__',\n",
       " '__divmod__',\n",
       " '__doc__',\n",
       " '__eq__',\n",
       " '__float__',\n",
       " '__floor__',\n",
       " '__floordiv__',\n",
       " '__format__',\n",
       " '__ge__',\n",
       " '__getattribute__',\n",
       " '__getnewargs__',\n",
       " '__gt__',\n",
       " '__hash__',\n",
       " '__index__',\n",
       " '__init__',\n",
       " '__init_subclass__',\n",
       " '__int__',\n",
       " '__invert__',\n",
       " '__le__',\n",
       " '__lshift__',\n",
       " '__lt__',\n",
       " '__mod__',\n",
       " '__mul__',\n",
       " '__ne__',\n",
       " '__neg__',\n",
       " '__new__',\n",
       " '__or__',\n",
       " '__pos__',\n",
       " '__pow__',\n",
       " '__radd__',\n",
       " '__rand__',\n",
       " '__rdivmod__',\n",
       " '__reduce__',\n",
       " '__reduce_ex__',\n",
       " '__repr__',\n",
       " '__rfloordiv__',\n",
       " '__rlshift__',\n",
       " '__rmod__',\n",
       " '__rmul__',\n",
       " '__ror__',\n",
       " '__round__',\n",
       " '__rpow__',\n",
       " '__rrshift__',\n",
       " '__rshift__',\n",
       " '__rsub__',\n",
       " '__rtruediv__',\n",
       " '__rxor__',\n",
       " '__setattr__',\n",
       " '__sizeof__',\n",
       " '__str__',\n",
       " '__sub__',\n",
       " '__subclasshook__',\n",
       " '__truediv__',\n",
       " '__trunc__',\n",
       " '__xor__',\n",
       " 'bit_length',\n",
       " 'conjugate',\n",
       " 'denominator',\n",
       " 'from_bytes',\n",
       " 'imag',\n",
       " 'numerator',\n",
       " 'real',\n",
       " 'to_bytes']"
      ]
     },
     "execution_count": 4,
     "metadata": {},
     "output_type": "execute_result"
    }
   ],
   "source": [
    "#In python everything is an object and as such has properties.\n",
    "print(type(1), type(1.5), type(\"s\"), type(True))\n",
    "\n",
    "#dir is the function that lists which properties and object has\n",
    "dir(True)\n",
    "\n"
   ]
  },
  {
   "cell_type": "code",
   "execution_count": 4,
   "metadata": {},
   "outputs": [
    {
     "name": "stdout",
     "output_type": "stream",
     "text": [
      "In Python is better to ask for forgiveness than for permission. \n",
      " Is what an object can do and not what type it is that matters. \n",
      " Code always must look \"nice\" and \"nice\" looks much better than \\'nice\\' within '' \n"
     ]
    }
   ],
   "source": [
    "# Two ways of defining simple strings: \" and ' make no difference in python\n",
    "Mantra = \"In Python is better to ask for forgiveness than for permission.\"\n",
    "Mantra2 = 'Is what an object can do and not what type it is that matters.'\n",
    "\n",
    "# The following mantra holds if you exchangee \" with ' \n",
    "Mantra3 = 'Code always must look \"nice\" and \"nice\" looks much better than \\\\\\'nice\\\\\\' within \\'\\' '  \n",
    "print(Mantra,\"\\n\", Mantra2,\"\\n\", Mantra3)"
   ]
  },
  {
   "cell_type": "code",
   "execution_count": 6,
   "metadata": {},
   "outputs": [
    {
     "name": "stdout",
     "output_type": "stream",
     "text": [
      "3.8\n",
      "(4.8+5j)\n",
      "(3+5j)\n",
      "(3+5j)\n"
     ]
    }
   ],
   "source": [
    "# define some variables of different types\n",
    "a = 1\n",
    "b = 2.8\n",
    "\n",
    "# Complex number\n",
    "c = complex(2, 5)\n",
    "\n",
    "# Sum\n",
    "print(a + b)\n",
    "print(b + c)\n",
    "print(a + c)\n",
    "print(c + a)"
   ]
  },
  {
   "cell_type": "markdown",
   "metadata": {},
   "source": [
    "As you can see, no type casting, or type checking necesary, python call the appropriate functions and conversion internally."
   ]
  },
  {
   "cell_type": "code",
   "execution_count": 7,
   "metadata": {},
   "outputs": [
    {
     "name": "stdout",
     "output_type": "stream",
     "text": [
      "In Python is better to ask for forgiveness than for permission.\n",
      "Is what an object can do and not what type it is that matters.\n",
      "Code always must look \"nice\" and \"nice\" looks much better than \\'nice\\' within '' \n"
     ]
    }
   ],
   "source": [
    "# constants are objects (Actually there are no constants in python)\n",
    "print(\"\\n\".join([Mantra,Mantra2,Mantra3]))"
   ]
  },
  {
   "cell_type": "markdown",
   "metadata": {},
   "source": [
    "Multiple assignment: Some interesting ways to assign variables."
   ]
  },
  {
   "cell_type": "code",
   "execution_count": 8,
   "metadata": {},
   "outputs": [
    {
     "name": "stdout",
     "output_type": "stream",
     "text": [
      "[1, 2]\n"
     ]
    }
   ],
   "source": [
    "#this is a list\n",
    "l = [1 ,2]\n",
    "print(l)"
   ]
  },
  {
   "cell_type": "code",
   "execution_count": 9,
   "metadata": {},
   "outputs": [
    {
     "name": "stdout",
     "output_type": "stream",
     "text": [
      "1 2\n"
     ]
    }
   ],
   "source": [
    "#You can use different values to initiate variables\n",
    "a,b = 1, 2\n",
    "print(a, b)"
   ]
  },
  {
   "cell_type": "code",
   "execution_count": 10,
   "metadata": {},
   "outputs": [
    {
     "name": "stdout",
     "output_type": "stream",
     "text": [
      "1 2\n"
     ]
    }
   ],
   "source": [
    "#or alternatively you can extract items form a list\n",
    "a,b = l\n",
    "print(a, b)"
   ]
  },
  {
   "cell_type": "code",
   "execution_count": 9,
   "metadata": {},
   "outputs": [
    {
     "name": "stdout",
     "output_type": "stream",
     "text": [
      "3 3\n"
     ]
    }
   ],
   "source": [
    "# assign one value to multiple variables\n",
    "c = d = 3\n",
    "print(c, d)"
   ]
  },
  {
   "cell_type": "markdown",
   "metadata": {},
   "source": [
    "Control sequences"
   ]
  },
  {
   "cell_type": "code",
   "execution_count": 10,
   "metadata": {},
   "outputs": [
    {
     "name": "stdout",
     "output_type": "stream",
     "text": [
      "Notice that there are no { } braces enclosing the statements, \n",
      "          only good indentations. And yes!!  1 < 2\n",
      "But play around with the values\n"
     ]
    }
   ],
   "source": [
    "if a > b:\n",
    "    print(\"\"\"You won't read this, unles you changed the values of a and b. \n",
    "          I see you chose: %d and %d\"\"\" % (a,b))\n",
    "\n",
    "else:\n",
    "    print(\"\"\"Notice that there are no { } braces enclosing the statements, \n",
    "          only good indentations. And yes!!  %d < %d\"\"\" % (a, b))\n",
    "    \n",
    "# also possible:\n",
    "print(a > b and \"The and or trick\" or \"But play around with the values\")"
   ]
  },
  {
   "cell_type": "markdown",
   "metadata": {},
   "source": [
    "Modify a and b above to see the different prinouts"
   ]
  },
  {
   "cell_type": "code",
   "execution_count": 13,
   "metadata": {},
   "outputs": [
    {
     "name": "stdout",
     "output_type": "stream",
     "text": [
      "[1, 2.5, (1, {'2': {1, 2, 3, 4, 5}})]\n"
     ]
    }
   ],
   "source": [
    "# Collections can hold arbitrary typpes\n",
    "l = [1 , 2.5, (1,{\"2\":set([1,2,3,4,5,5,5,5,5,5])})]\n",
    "print(l)"
   ]
  },
  {
   "cell_type": "markdown",
   "metadata": {},
   "source": [
    "**Some definitions:**\n",
    "\n",
    "* iterables: any class of object that has the method `__iter__()`. All collections are iterable but not all iterables are collections.\n",
    "* tuple: It is collection of objetcs that once created can not be modified. (Un mutable object)\n",
    "\n",
    "```python\n",
    "tuple() or ()\n",
    "\n",
    "# example\n",
    "(1,5,6)\n",
    "```\n",
    "\n",
    "\n",
    "* list: It is the normal collection of objects. (Mutable Object)\n",
    "\n",
    "```python\n",
    "list() or []\n",
    "\n",
    "#example\n",
    "[1,5,6]\n",
    "```\n",
    "\n",
    "\n",
    "* set: Collection of unique elements \n",
    "\n",
    "```python\n",
    "set([1,5,5,5,6]) or {[1,5,5,5,6]}\n",
    "\n",
    "#pruduces\n",
    "{1,5,6}\n",
    "```\n",
    "\n",
    "* dict: Collection of elements that can be retrieved by a unique key. The key can be any object that supports hashing)\n",
    "\n",
    "```python\n",
    "dict() or {}\n",
    "\n",
    "#example\n",
    "{'key1':123,3:'vlaue1',(1,2):[1,2,3,4]}\n",
    "```\n",
    "\n",
    "\n",
    "\n",
    "\n"
   ]
  },
  {
   "cell_type": "code",
   "execution_count": 14,
   "metadata": {},
   "outputs": [
    {
     "name": "stdout",
     "output_type": "stream",
     "text": [
      "True\n",
      "True\n",
      "True\n",
      "True\n"
     ]
    }
   ],
   "source": [
    "#type is the function that returns the onbject's class\n",
    "#Lists, tuples, dictionaries and sets. The following are the basic collections,\n",
    "#and definitions\n",
    "print(type(list()) == type([]))\n",
    "print(type(tuple((1,2))) == type((1,2)))\n",
    "print(type(dict([[1,2], [3,4]])) == type({1:3, 2:4}))\n",
    "print(type(set((1,2))) == type({1,3}))"
   ]
  },
  {
   "cell_type": "code",
   "execution_count": 15,
   "metadata": {},
   "outputs": [
    {
     "name": "stdout",
     "output_type": "stream",
     "text": [
      "False\n"
     ]
    }
   ],
   "source": [
    "#Notice that for an empty set it does not hold, as {} is the short hand for a \n",
    "#new empty dictionary.\n",
    "print(type(set()) == type({}))"
   ]
  },
  {
   "cell_type": "markdown",
   "metadata": {},
   "source": [
    "Some short hands to define lists"
   ]
  },
  {
   "cell_type": "code",
   "execution_count": 11,
   "metadata": {},
   "outputs": [
    {
     "name": "stdout",
     "output_type": "stream",
     "text": [
      "range(0, 4)\n"
     ]
    }
   ],
   "source": [
    "# the range function\n",
    "print(range(4))"
   ]
  },
  {
   "cell_type": "code",
   "execution_count": 17,
   "metadata": {},
   "outputs": [
    {
     "name": "stdout",
     "output_type": "stream",
     "text": [
      "[0, 3, 6, 9, 12, 15, 18, 21, 24, 27]\n"
     ]
    }
   ],
   "source": [
    "# list comprehension\n",
    "l = [ 3*x for x in range(10)  ] \n",
    "print(l)"
   ]
  },
  {
   "cell_type": "code",
   "execution_count": 18,
   "metadata": {},
   "outputs": [
    {
     "name": "stdout",
     "output_type": "stream",
     "text": [
      "[1, 2, 3, 4, 'a', 'b', 'c']\n"
     ]
    }
   ],
   "source": [
    "#list concatenation\n",
    "print([1,2,3,4] + ['a','b','c'])"
   ]
  },
  {
   "cell_type": "code",
   "execution_count": 19,
   "metadata": {},
   "outputs": [
    {
     "name": "stdout",
     "output_type": "stream",
     "text": [
      "[5, 5, 5, 5, 5, 5, 5, 5, 5, 5]\n"
     ]
    }
   ],
   "source": [
    "# item multiplication\n",
    "l = [5] * 10\n",
    "print(l)"
   ]
  },
  {
   "cell_type": "code",
   "execution_count": 12,
   "metadata": {},
   "outputs": [
    {
     "name": "stdout",
     "output_type": "stream",
     "text": [
      "[[5], [5], [5], [5], [5], [5], [5], [5], [5], [5]]\n",
      "[[2], [2], [2], [2], [2], [2], [2], [2], [2], [2]]\n"
     ]
    }
   ],
   "source": [
    "# Something to keep in mind:\n",
    "l = [[5]] * 10\n",
    "print(l)\n",
    "\n",
    "# So far nothing funny, as expected you get back a list of lists with one element (5)\n",
    "l[0][0] = 2\n",
    "print(l)"
   ]
  },
  {
   "cell_type": "markdown",
   "metadata": {},
   "source": [
    "What? list are mutable objects, and the call used before passes the reference \n",
    "to the list [5] 10 times, and then, as a result,modifying any one elment\n",
    "modifies all of them."
   ]
  },
  {
   "cell_type": "markdown",
   "metadata": {},
   "source": [
    "#### Loops "
   ]
  },
  {
   "cell_type": "code",
   "execution_count": 27,
   "metadata": {},
   "outputs": [
    {
     "name": "stdout",
     "output_type": "stream",
     "text": [
      "[[5], [5], [5], [5], [5], [5], [5], [5], [5], [5]]\n",
      "[[2], [5], [5], [5], [5], [5], [5], [5], [5], [5]]\n"
     ]
    }
   ],
   "source": [
    "# loops\n",
    "l = [] \n",
    "for i in range(10):\n",
    "  l.append([5])\n",
    "\n",
    "print(l)\n",
    "\n",
    "# We have seen this before\n",
    "l[0][0] = 2\n",
    "print(l)\n",
    "\n"
   ]
  },
  {
   "cell_type": "markdown",
   "metadata": {},
   "source": [
    "Wait ahat? it worked!!!! The reason is that in the first form: \n",
    "```python\n",
    "l = [[5]] * 10 \n",
    "``` \n",
    "\n",
    "`[5]` gets called only once and a reference to it is used 10 times, whereas in this form every call to the append creates a new indipendent `[5]` list object."
   ]
  },
  {
   "cell_type": "code",
   "execution_count": 28,
   "metadata": {},
   "outputs": [
    {
     "name": "stdout",
     "output_type": "stream",
     "text": [
      "[[5], [5], [5], [5], [5], [5], [5], [5], [5], [5]]\n"
     ]
    }
   ],
   "source": [
    "# another loop, If you get stuck, you can always hit the interrupt button in the tool bar\n",
    "l = [] \n",
    "i = 0\n",
    "while True:\n",
    "    l.append([5])\n",
    "    i += 1\n",
    "    if i == 10:\n",
    "      break\n",
    "\n",
    "print(l)\n",
    "    "
   ]
  },
  {
   "cell_type": "markdown",
   "metadata": {},
   "source": [
    "#### Functions"
   ]
  },
  {
   "cell_type": "code",
   "execution_count": 13,
   "metadata": {},
   "outputs": [
    {
     "data": {
      "text/plain": [
       "2.8"
      ]
     },
     "execution_count": 13,
     "metadata": {},
     "output_type": "execute_result"
    }
   ],
   "source": [
    "# lets define a function\n",
    "def foo(a,b):\n",
    "    return a * b\n",
    "\n",
    "# run it\n",
    "foo(a,b)"
   ]
  },
  {
   "cell_type": "markdown",
   "metadata": {},
   "source": [
    "The next function will allow us to print items from iterables"
   ]
  },
  {
   "cell_type": "code",
   "execution_count": 14,
   "metadata": {},
   "outputs": [
    {
     "name": "stdout",
     "output_type": "stream",
     "text": [
      "[2]\n",
      "[2]\n",
      "[2]\n",
      "[2]\n",
      "[2]\n",
      "[2]\n",
      "[2]\n",
      "[2]\n",
      "[2]\n",
      "[2]\n",
      "I\n",
      "s\n",
      " \n",
      "w\n",
      "h\n",
      "a\n",
      "t\n",
      " \n",
      "a\n",
      "n\n",
      " \n",
      "o\n",
      "b\n",
      "j\n",
      "e\n",
      "c\n",
      "t\n",
      " \n",
      "c\n",
      "a\n",
      "n\n",
      " \n",
      "d\n",
      "o\n",
      " \n",
      "a\n",
      "n\n",
      "d\n",
      " \n",
      "n\n",
      "o\n",
      "t\n",
      " \n",
      "w\n",
      "h\n",
      "a\n",
      "t\n",
      " \n",
      "t\n",
      "y\n",
      "p\n",
      "e\n",
      " \n",
      "i\n",
      "t\n",
      " \n",
      "i\n",
      "s\n",
      " \n",
      "t\n",
      "h\n",
      "a\n",
      "t\n",
      " \n",
      "m\n",
      "a\n",
      "t\n",
      "t\n",
      "e\n",
      "r\n",
      "s\n",
      ".\n",
      "1\n",
      "2\n",
      "Is what an object can do and not what type it is that matters.\n",
      "In Python is better to ask for forgiveness than for permission.\n"
     ]
    }
   ],
   "source": [
    "# Iteration Mantras 1 and 2\n",
    "def myPrint( msg ):\n",
    "    \"\"\" This function iterates over msg and prints each element \"\"\"\n",
    "    for item in msg:\n",
    "        print(item)\n",
    "        \n",
    "myPrint(l)\n",
    "myPrint(Mantra2)\n",
    "\n",
    "# this Will only print the keys\n",
    "myPrint({1:Mantra2, 2:Mantra3})\n",
    "\n",
    "# this will print the values\n",
    "myPrint({1:Mantra2, 2:Mantra}.values())\n",
    "\n"
   ]
  },
  {
   "cell_type": "markdown",
   "metadata": {},
   "source": [
    "That did not go well at the last minute, lets ask for forgiveness."
   ]
  },
  {
   "cell_type": "code",
   "execution_count": 31,
   "metadata": {},
   "outputs": [
    {
     "name": "stdout",
     "output_type": "stream",
     "text": [
      "[5]\n",
      "[5]\n",
      "[5]\n",
      "[5]\n",
      "[5]\n",
      "[5]\n",
      "[5]\n",
      "[5]\n",
      "[5]\n",
      "[5]\n",
      "I\n",
      "s\n",
      " \n",
      "w\n",
      "h\n",
      "a\n",
      "t\n",
      " \n",
      "a\n",
      "n\n",
      " \n",
      "o\n",
      "b\n",
      "j\n",
      "e\n",
      "c\n",
      "t\n",
      " \n",
      "c\n",
      "a\n",
      "n\n",
      " \n",
      "d\n",
      "o\n",
      " \n",
      "a\n",
      "n\n",
      "d\n",
      " \n",
      "n\n",
      "o\n",
      "t\n",
      " \n",
      "w\n",
      "h\n",
      "a\n",
      "t\n",
      " \n",
      "t\n",
      "y\n",
      "p\n",
      "e\n",
      " \n",
      "i\n",
      "t\n",
      " \n",
      "i\n",
      "s\n",
      " \n",
      "t\n",
      "h\n",
      "a\n",
      "t\n",
      " \n",
      "m\n",
      "a\n",
      "t\n",
      "t\n",
      "e\n",
      "r\n",
      "s\n",
      ".\n",
      "1\n",
      "2\n",
      "Is what an object can do and not what type it is that matters.\n",
      "In Python is better to ask for forgiveness than for permission.\n",
      "2\n"
     ]
    }
   ],
   "source": [
    "# Lets ask for forgiveness:\n",
    "def myPrint( msg ):\n",
    "    \"\"\" This function iterates over msg and prints each element \n",
    "    if msg is not iterable, then it prints the msg \"\"\"\n",
    "    try:\n",
    "      for item in msg:\n",
    "        print(item)\n",
    "            \n",
    "    except TypeError:\n",
    "      print(msg)\n",
    "        \n",
    "myPrint(l)\n",
    "myPrint(Mantra2)\n",
    "\n",
    "# this Will only print the keys\n",
    "myPrint({1:Mantra2, 2:Mantra3})\n",
    "\n",
    "# this will print the values\n",
    "myPrint({1:Mantra2, 2:Mantra}.values())\n",
    "\n",
    "myPrint(2)      "
   ]
  },
  {
   "cell_type": "markdown",
   "metadata": {},
   "source": [
    "Notice how it is not necessary to test the type of every object, rather, you attempt to do something and if the object does not supports the action, you react accordingly."
   ]
  },
  {
   "cell_type": "code",
   "execution_count": 15,
   "metadata": {},
   "outputs": [
    {
     "name": "stdout",
     "output_type": "stream",
     "text": [
      "<class 'function'>\n",
      "['__annotations__', '__call__', '__class__', '__closure__', '__code__', '__defaults__', '__delattr__', '__dict__', '__dir__', '__doc__', '__eq__', '__format__', '__ge__', '__get__', '__getattribute__', '__globals__', '__gt__', '__hash__', '__init__', '__init_subclass__', '__kwdefaults__', '__le__', '__lt__', '__module__', '__name__', '__ne__', '__new__', '__qualname__', '__reduce__', '__reduce_ex__', '__repr__', '__setattr__', '__sizeof__', '__str__', '__subclasshook__']\n",
      " This function iterates over msg and prints each element \n",
      "Help on function myPrint in module __main__:\n",
      "\n",
      "myPrint(msg)\n",
      "    This function iterates over msg and prints each element\n",
      "\n",
      "None\n"
     ]
    }
   ],
   "source": [
    "# Everything is an object\n",
    "print(type(myPrint))\n",
    "\n",
    "# and as such it has properties:\n",
    "print(dir(myPrint))\n",
    "\n",
    "# And remeber the triple quoted text we used in the definition?\n",
    "print(myPrint.__doc__)\n",
    "\n",
    "# and Here is a nice use for it\n",
    "print(help(myPrint))"
   ]
  },
  {
   "cell_type": "markdown",
   "metadata": {},
   "source": [
    "#### Classes"
   ]
  },
  {
   "cell_type": "code",
   "execution_count": 17,
   "metadata": {},
   "outputs": [],
   "source": [
    "# Finally lets create our own class\n",
    "class myClass():\n",
    "    classVariable = 1\n",
    "    \n",
    "    def __init__(self, val=5):\n",
    "        self.instanceVariable = val\n",
    "        myClass.classVariable += 1\n",
    "        \n",
    "    def sum(self,val2):\n",
    "        return val2 + self.instanceVariable\n",
    "    "
   ]
  },
  {
   "cell_type": "code",
   "execution_count": 18,
   "metadata": {},
   "outputs": [
    {
     "name": "stdout",
     "output_type": "stream",
     "text": [
      "['__class__', '__delattr__', '__dict__', '__dir__', '__doc__', '__eq__', '__format__', '__ge__', '__getattribute__', '__gt__', '__hash__', '__init__', '__init_subclass__', '__le__', '__lt__', '__module__', '__ne__', '__new__', '__reduce__', '__reduce_ex__', '__repr__', '__setattr__', '__sizeof__', '__str__', '__subclasshook__', '__weakref__', 'classVariable', 'sum']\n",
      "2 2\n",
      "2 3\n"
     ]
    }
   ],
   "source": [
    "print(dir(myClass))\n",
    "\n",
    "# use our new class\n",
    "c1 = myClass(2)\n",
    "print(c1.instanceVariable, myClass.classVariable)\n",
    "\n",
    "# create another one\n",
    "c2 = myClass(2)\n",
    "print(c2.instanceVariable, myClass.classVariable)"
   ]
  },
  {
   "cell_type": "code",
   "execution_count": 19,
   "metadata": {},
   "outputs": [
    {
     "data": {
      "text/plain": [
       "4"
      ]
     },
     "execution_count": 19,
     "metadata": {},
     "output_type": "execute_result"
    }
   ],
   "source": [
    "c2.sum(2)"
   ]
  },
  {
   "cell_type": "markdown",
   "metadata": {},
   "source": [
    "Further information can be found online in the documentation: https://docs.python.org/2/"
   ]
  },
  {
   "cell_type": "markdown",
   "metadata": {},
   "source": [
    "### Vectorization"
   ]
  },
  {
   "cell_type": "markdown",
   "metadata": {},
   "source": [
    "Now that you are familiar with the language, measure the real effects of vectorization. To test vectorization we will use the python libraries numpy, scipy, and some commands from ipython."
   ]
  },
  {
   "cell_type": "code",
   "execution_count": 22,
   "metadata": {},
   "outputs": [
    {
     "name": "stdout",
     "output_type": "stream",
     "text": [
      "Populating the interactive namespace from numpy and matplotlib\n"
     ]
    }
   ],
   "source": [
    "# Isstantiate the environment with pylab\n",
    "%pylab inline"
   ]
  },
  {
   "cell_type": "code",
   "execution_count": 23,
   "metadata": {},
   "outputs": [
    {
     "name": "stdout",
     "output_type": "stream",
     "text": [
      "64.1 µs ± 1.08 µs per loop (mean ± std. dev. of 7 runs, 10000 loops each)\n"
     ]
    }
   ],
   "source": [
    "# library implementations vs for loops construct a matrix\n",
    "# of 100 x 100 random numbers\n",
    "%timeit np.random.rand(100,100)  "
   ]
  },
  {
   "cell_type": "code",
   "execution_count": 24,
   "metadata": {},
   "outputs": [
    {
     "name": "stdout",
     "output_type": "stream",
     "text": [
      "3.41 ms ± 143 µs per loop (mean ± std. dev. of 7 runs, 100 loops each)\n"
     ]
    }
   ],
   "source": [
    "%%timeit l=[]\n",
    "for i in range(100):\n",
    "    l.append([])\n",
    "    for j in range(100):\n",
    "        l[i].append( rand() )"
   ]
  },
  {
   "cell_type": "code",
   "execution_count": 25,
   "metadata": {},
   "outputs": [
    {
     "name": "stdout",
     "output_type": "stream",
     "text": [
      "640 ns ± 12.2 ns per loop (mean ± std. dev. of 7 runs, 1000000 loops each)\n"
     ]
    }
   ],
   "source": [
    "# linear algebra applications\n",
    "X = np.random.rand(100)\n",
    "Y = np.random.rand(100)\n",
    "\n",
    "# element wise multiplication\n",
    "%timeit X * Y"
   ]
  },
  {
   "cell_type": "code",
   "execution_count": 26,
   "metadata": {},
   "outputs": [
    {
     "name": "stdout",
     "output_type": "stream",
     "text": [
      "45.9 µs ± 1.57 µs per loop (mean ± std. dev. of 7 runs, 10000 loops each)\n"
     ]
    }
   ],
   "source": [
    "%%timeit r = []\n",
    "for i in range(len(X)):\n",
    "    r.append(X[i] * Y[i])"
   ]
  },
  {
   "cell_type": "code",
   "execution_count": 27,
   "metadata": {},
   "outputs": [],
   "source": [
    "# Arrays are fast for computations, but slow when retrieving elements one  by one\n",
    "XL = X.tolist()\n",
    "YL = Y.tolist()"
   ]
  },
  {
   "cell_type": "code",
   "execution_count": 28,
   "metadata": {},
   "outputs": [
    {
     "name": "stdout",
     "output_type": "stream",
     "text": [
      "19.2 µs ± 1.13 µs per loop (mean ± std. dev. of 7 runs, 10000 loops each)\n"
     ]
    }
   ],
   "source": [
    "%%timeit r = []\n",
    "for i in range(len(X)):\n",
    "    r.append(XL[i] * YL[i])"
   ]
  },
  {
   "cell_type": "code",
   "execution_count": 29,
   "metadata": {},
   "outputs": [
    {
     "name": "stdout",
     "output_type": "stream",
     "text": [
      "3.06 µs ± 183 ns per loop (mean ± std. dev. of 7 runs, 100000 loops each)\n"
     ]
    }
   ],
   "source": [
    "# The sum over the pairwise product\n",
    "%timeit (X * Y).sum()"
   ]
  },
  {
   "cell_type": "code",
   "execution_count": 31,
   "metadata": {},
   "outputs": [
    {
     "name": "stdout",
     "output_type": "stream",
     "text": [
      "13.8 µs ± 223 ns per loop (mean ± std. dev. of 7 runs, 100000 loops each)\n"
     ]
    }
   ],
   "source": [
    "%%timeit \n",
    "s = 0\n",
    "for i in range(len(X)):\n",
    "    s += XL[i] * YL[i]"
   ]
  },
  {
   "cell_type": "markdown",
   "metadata": {},
   "source": [
    "You have seen that libraries have certain operation very well optimized. And that with some care, you can have significant performance improvements by using the most appropriate objects.\n",
    "\n",
    "A side effect is that vectorization allows to write simpler code. You go form multiple lines and variables to only 1 line.\n",
    "\n",
    "** The Gaussian Function **\n",
    "\n",
    "In data analysis a common function is the gaussian function defined as:\n",
    "\n",
    "$$ P = \\frac{1}{\\sqrt{2\\pi\\sigma^2}}\\exp\\left(\\frac{-(X-\\mu)^2}{2\\sigma^2}\\right) $$\n",
    "\n",
    "Where $P$ and $X$ are vectors, $\\mu$ is the mean of $X$ and $\\sigma$ is the standard deviation of $X$. **Hint:** $\\sigma^2$ is also referred to as the variance and it is usually denoted as $s$. It is computed with the function `np.var`. THe following is a list of methods that are usefull.\n",
    "\n",
    "```python\n",
    "# pi\n",
    "pi\n",
    "\n",
    "#exp(X)\n",
    "np.exp(X)\n",
    "\n",
    "#exp(x) item form\n",
    "math.exp\n",
    "\n",
    "#Power\n",
    "2 ** 2 = 4\n",
    "\n",
    "#Square root\n",
    "np.sqrt(X)\n",
    "\n",
    "\n",
    "```\n",
    "\n",
    "In the next block define the function using for loops.\n"
   ]
  },
  {
   "cell_type": "code",
   "execution_count": 32,
   "metadata": {},
   "outputs": [],
   "source": [
    "# the gaussian function note that mu and sigma are passed as parameters\n",
    "#Also note that we call the import statement to make the math package available.\n",
    "import math\n",
    "def gaussian_f( X, mu, s ):\n",
    "    P = []\n",
    "    for x in X:\n",
    "      P.append( math.exp(-(x-mu)**2 / (2*s)) * 1 / (sqrt(2*pi*s)))\n",
    "    \n",
    "    return P\n",
    "    "
   ]
  },
  {
   "cell_type": "markdown",
   "metadata": {},
   "source": [
    "Reimplement using vectorization"
   ]
  },
  {
   "cell_type": "code",
   "execution_count": 34,
   "metadata": {},
   "outputs": [],
   "source": [
    "# Now implement the vecotrized version\n",
    "def gaussian( X, mu, s ):\n",
    "    P = 1 / (sqrt(2*pi*s)) * np.exp(-(X-mu)**2 / (2*s))\n",
    "    \n",
    "    return P"
   ]
  },
  {
   "cell_type": "markdown",
   "metadata": {},
   "source": [
    "The following block computes $\\mu$ and $s$. Complete the block to time the execution to compute P using the two version. Which one is faster?"
   ]
  },
  {
   "cell_type": "code",
   "execution_count": 35,
   "metadata": {},
   "outputs": [
    {
     "name": "stdout",
     "output_type": "stream",
     "text": [
      "325 µs ± 8.43 µs per loop (mean ± std. dev. of 7 runs, 1000 loops each)\n",
      "10.2 µs ± 89.3 ns per loop (mean ± std. dev. of 7 runs, 100000 loops each)\n"
     ]
    }
   ],
   "source": [
    "mu = X.mean()\n",
    "s = X.var()\n",
    "\n",
    "%timeit gaussian_f( X, mu, s )\n",
    "\n",
    "%timeit gaussian( X, mu, s )\n"
   ]
  },
  {
   "cell_type": "markdown",
   "metadata": {},
   "source": [
    "#### The array class"
   ]
  },
  {
   "cell_type": "markdown",
   "metadata": {},
   "source": [
    "Numpy has a very powerful and flexible class for data analysis called the ndarray class. THe function used in vectorization ether convert normal list into ndarrays or work in nd arrays directly (Using mantra 2).\n",
    "\n",
    "Out of the many function available, theere are two main concepts to keep in mind: slicing and axis bound operations.\n",
    "\n",
    "#### Slicing\n",
    "\n",
    "Slices are a builtin python class that helps determine which part of an iterable needs to be returned. A slice defines the start index, the stop index and the step used to retrieve indexes: \n",
    "\n",
    "```python\n",
    "slice(start, stop[, step=1])\n",
    "```  \n",
    "Normally the slice class is not explicitly called, instead, a short hand is used when using the collection index syntax e.g. `l[start:stop:step]`.  The slice will return indexes starting by `start` and adding `step` continously until  the index is greater or equal to `stop`.  The following example illustrate all the cases:"
   ]
  },
  {
   "cell_type": "code",
   "execution_count": 36,
   "metadata": {},
   "outputs": [
    {
     "name": "stdout",
     "output_type": "stream",
     "text": [
      "0\n"
     ]
    }
   ],
   "source": [
    "#Define a list, we explicitly convert the range into a list to be able to\n",
    "#retrieve indexes directly. range by itself is an irterable\n",
    "l = list(range(100))\n",
    "\n",
    "# Normal element this does not uses a slice\n",
    "print(l[0])"
   ]
  },
  {
   "cell_type": "code",
   "execution_count": 39,
   "metadata": {},
   "outputs": [
    {
     "name": "stdout",
     "output_type": "stream",
     "text": [
      "[0, 1, 2, 3, 4, 5, 6, 7, 8, 9, 10, 11, 12, 13, 14, 15, 16, 17, 18, 19, 20, 21, 22, 23, 24, 25, 26, 27, 28, 29, 30, 31, 32, 33, 34, 35, 36, 37, 38, 39, 40, 41, 42, 43, 44, 45, 46, 47, 48, 49]\n",
      "[0, 2, 4, 6, 8, 10, 12, 14, 16, 18, 20, 22, 24, 26, 28, 30, 32, 34, 36, 38, 40, 42, 44, 46, 48, 50, 52, 54, 56, 58, 60, 62, 64, 66, 68, 70, 72, 74, 76, 78, 80, 82, 84, 86, 88, 90, 92, 94, 96, 98]\n"
     ]
    }
   ],
   "source": [
    "#first 50 elements, start implicitly defined to 0\n",
    "print(l[:50])\n",
    "\n",
    "print(l[slice(0,100,2)])"
   ]
  },
  {
   "cell_type": "code",
   "execution_count": 40,
   "metadata": {},
   "outputs": [
    {
     "name": "stdout",
     "output_type": "stream",
     "text": [
      "[50, 51, 52, 53, 54, 55, 56, 57, 58, 59, 60, 61, 62, 63, 64, 65, 66, 67, 68, 69, 70, 71, 72, 73, 74, 75, 76, 77, 78, 79, 80, 81, 82, 83, 84, 85, 86, 87, 88, 89, 90, 91, 92, 93, 94, 95, 96, 97, 98, 99]\n",
      "[50, 51, 52, 53, 54, 55, 56, 57, 58, 59, 60, 61, 62, 63, 64, 65, 66, 67, 68, 69, 70, 71, 72, 73, 74, 75, 76, 77, 78, 79, 80, 81, 82, 83, 84, 85, 86, 87, 88, 89, 90, 91, 92, 93, 94, 95, 96, 97, 98, 99]\n"
     ]
    }
   ],
   "source": [
    "#last 50 elements, end implicitly defined\n",
    "print(l[50:])\n",
    "\n",
    "print(l[slice(50,len(l))])"
   ]
  },
  {
   "cell_type": "code",
   "execution_count": 41,
   "metadata": {},
   "outputs": [
    {
     "name": "stdout",
     "output_type": "stream",
     "text": [
      "[1, 3, 5, 7, 9, 11, 13, 15, 17, 19, 21, 23, 25, 27, 29, 31, 33, 35, 37, 39, 41, 43, 45, 47, 49, 51, 53, 55, 57, 59, 61, 63, 65, 67, 69, 71, 73, 75, 77, 79, 81, 83, 85, 87, 89, 91, 93, 95, 97, 99]\n"
     ]
    }
   ],
   "source": [
    "# Select odd numbers, end implicitly defined, but we add a step of two\n",
    "print(l[1::2])"
   ]
  },
  {
   "cell_type": "code",
   "execution_count": 42,
   "metadata": {},
   "outputs": [
    {
     "name": "stdout",
     "output_type": "stream",
     "text": [
      "[0, 2, 4, 6, 8, 10, 12, 14, 16, 18, 20, 22, 24, 26, 28, 30, 32, 34, 36, 38, 40, 42, 44, 46, 48, 50, 52, 54, 56, 58, 60, 62, 64, 66, 68, 70, 72, 74, 76, 78, 80, 82, 84, 86, 88, 90, 92, 94, 96, 98]\n"
     ]
    }
   ],
   "source": [
    "# We are going to consider 0 to be an even number, so we can select the even numbers like\n",
    "print(l[::2])"
   ]
  },
  {
   "cell_type": "code",
   "execution_count": 43,
   "metadata": {},
   "outputs": [
    {
     "name": "stdout",
     "output_type": "stream",
     "text": [
      "[2, 4, 6, 8, 10, 12, 14, 16, 18, 20, 22, 24, 26, 28, 30, 32, 34, 36, 38, 40, 42, 44, 46, 48, 50, 52, 54, 56, 58, 60, 62, 64, 66, 68, 70, 72, 74, 76, 78, 80, 82, 84, 86, 88, 90, 92, 94, 96, 98]\n"
     ]
    }
   ],
   "source": [
    "# also we could select the even numbers without the 0\n",
    "print(l[2::2])"
   ]
  },
  {
   "cell_type": "markdown",
   "metadata": {},
   "source": [
    "Using the concept of slices an n dimensional array can be address by defining slices in each of its demensions.\n"
   ]
  },
  {
   "cell_type": "code",
   "execution_count": 44,
   "metadata": {
    "scrolled": true
   },
   "outputs": [
    {
     "name": "stdout",
     "output_type": "stream",
     "text": [
      "Size of the matrix per dimension (100, 100, 100)\n",
      "Number of dimension: 3\n"
     ]
    }
   ],
   "source": [
    "# random produces an array filled with random numbers between \n",
    "# 0 and 1 and of dimension the number of arguments passed\n",
    "m = np.random.rand(100,100,100) \n",
    "print(\"Size of the matrix per dimension %s\" %  str(m.shape))\n",
    "print(\"Number of dimension: %d\" % len(m.shape))"
   ]
  },
  {
   "cell_type": "code",
   "execution_count": 45,
   "metadata": {},
   "outputs": [
    {
     "name": "stdout",
     "output_type": "stream",
     "text": [
      "[[[0.65669565 0.64931574 0.44596387 ... 0.95599277 0.32999871 0.66113443]\n",
      "  [0.34033089 0.73695131 0.27104886 ... 0.58285803 0.42361842 0.27362429]\n",
      "  [0.77443562 0.05572836 0.58168449 ... 0.41059104 0.54586019 0.49093901]\n",
      "  ...\n",
      "  [0.44170738 0.23236614 0.5315826  ... 0.03193133 0.72310313 0.76959346]\n",
      "  [0.81860952 0.45465957 0.42450531 ... 0.73530677 0.28542867 0.06936113]\n",
      "  [0.39178822 0.74714106 0.32309939 ... 0.53096625 0.69912838 0.92899085]]\n",
      "\n",
      " [[0.62136914 0.64295127 0.61902255 ... 0.75241321 0.83328477 0.82334115]\n",
      "  [0.21328453 0.58215735 0.62608385 ... 0.32217493 0.33454881 0.4485742 ]\n",
      "  [0.8029207  0.50908135 0.55628775 ... 0.79332189 0.61297779 0.5769415 ]\n",
      "  ...\n",
      "  [0.24911843 0.52518577 0.05450362 ... 0.23019255 0.57623955 0.39943975]\n",
      "  [0.02711649 0.99668007 0.8741437  ... 0.08704586 0.26326281 0.31030985]\n",
      "  [0.09776052 0.86588243 0.66716419 ... 0.26782511 0.57899244 0.8225328 ]]\n",
      "\n",
      " [[0.15766228 0.0507415  0.44220862 ... 0.69458163 0.13886066 0.50040147]\n",
      "  [0.16647917 0.66762163 0.99189088 ... 0.47977523 0.01623877 0.23895462]\n",
      "  [0.15325653 0.03669692 0.70842146 ... 0.76372472 0.46452767 0.90021595]\n",
      "  ...\n",
      "  [0.09968899 0.0314181  0.24512917 ... 0.28281728 0.88120287 0.35359632]\n",
      "  [0.05142162 0.69809331 0.05934983 ... 0.72031715 0.47787056 0.2833562 ]\n",
      "  [0.19567279 0.99060798 0.6740618  ... 0.43231461 0.90215868 0.77848916]]\n",
      "\n",
      " [[0.90245813 0.09849366 0.59584317 ... 0.42520142 0.28839288 0.88958491]\n",
      "  [0.59979311 0.94043302 0.59760075 ... 0.81130017 0.99045762 0.24407476]\n",
      "  [0.06881848 0.54762571 0.12142069 ... 0.46447504 0.89829399 0.86311268]\n",
      "  ...\n",
      "  [0.10581437 0.5649703  0.90195966 ... 0.51216937 0.16927762 0.04723646]\n",
      "  [0.29477168 0.72939663 0.91636862 ... 0.41847122 0.48368441 0.2887233 ]\n",
      "  [0.34515729 0.31817599 0.55999001 ... 0.95524549 0.85006029 0.21275481]]\n",
      "\n",
      " [[0.27699597 0.89546185 0.08648479 ... 0.00382505 0.27714139 0.1738166 ]\n",
      "  [0.91977409 0.72024626 0.59919522 ... 0.78396653 0.42261525 0.89699628]\n",
      "  [0.85624645 0.89296841 0.61337387 ... 0.32141243 0.55588477 0.20468339]\n",
      "  ...\n",
      "  [0.34927538 0.06123286 0.02534544 ... 0.1852195  0.81386834 0.62187084]\n",
      "  [0.89831046 0.17568948 0.40789642 ... 0.34687355 0.81319373 0.16859036]\n",
      "  [0.90850737 0.7455859  0.93426882 ... 0.99039599 0.5052134  0.99662049]]]\n"
     ]
    }
   ],
   "source": [
    "#Using m we can get slices, \n",
    "print(m[5:10,:,:])"
   ]
  },
  {
   "cell_type": "code",
   "execution_count": 46,
   "metadata": {},
   "outputs": [
    {
     "name": "stdout",
     "output_type": "stream",
     "text": [
      "(5, 100, 100)\n"
     ]
    }
   ],
   "source": [
    "print(m[5:10,:,:].shape)"
   ]
  },
  {
   "cell_type": "code",
   "execution_count": 47,
   "metadata": {},
   "outputs": [
    {
     "data": {
      "text/plain": [
       "array([[[0.40131416, 0.21900712, 0.55452958, 0.57110413, 0.05613086],\n",
       "        [0.0854773 , 0.86820628, 0.91477397, 0.20493678, 0.48008371],\n",
       "        [0.3278482 , 0.93355037, 0.37188427, 0.5387138 , 0.98311916],\n",
       "        [0.90250235, 0.19289671, 0.82426628, 0.8699157 , 0.33401354],\n",
       "        [0.86863287, 0.03248748, 0.52605773, 0.35075832, 0.59305789]],\n",
       "\n",
       "       [[0.1607709 , 0.93210906, 0.11560057, 0.35591919, 0.21305305],\n",
       "        [0.62910636, 0.58185806, 0.30133731, 0.88390843, 0.51913324],\n",
       "        [0.27452781, 0.40699586, 0.48949964, 0.44353557, 0.76733772],\n",
       "        [0.24462509, 0.03405056, 0.27249183, 0.43335901, 0.76597026],\n",
       "        [0.24183051, 0.27906441, 0.48643649, 0.43794628, 0.81376454]],\n",
       "\n",
       "       [[0.16257177, 0.56770049, 0.73296799, 0.89676904, 0.13457884],\n",
       "        [0.44657502, 0.21667437, 0.86743724, 0.49124141, 0.42495059],\n",
       "        [0.85395799, 0.30153211, 0.46398023, 0.42364504, 0.25725553],\n",
       "        [0.64627228, 0.49638346, 0.21366231, 0.87606453, 0.90446003],\n",
       "        [0.0466336 , 0.17413421, 0.2450966 , 0.46860152, 0.45330893]],\n",
       "\n",
       "       [[0.71501607, 0.38126255, 0.32197907, 0.41822243, 0.73025122],\n",
       "        [0.79185617, 0.06919682, 0.74116098, 0.66181861, 0.12115712],\n",
       "        [0.05573197, 0.35595754, 0.25903011, 0.89819252, 0.60975166],\n",
       "        [0.34975077, 0.01516285, 0.9179466 , 0.76902646, 0.05331871],\n",
       "        [0.47111649, 0.55129658, 0.20923329, 0.03647016, 0.74772872]],\n",
       "\n",
       "       [[0.29291935, 0.00287276, 0.11919487, 0.14540901, 0.00122994],\n",
       "        [0.00542012, 0.50931986, 0.15918552, 0.088047  , 0.10721755],\n",
       "        [0.12576647, 0.23709829, 0.10521189, 0.12438512, 0.60491006],\n",
       "        [0.6938806 , 0.67254409, 0.63834247, 0.76688005, 0.75250702],\n",
       "        [0.22276194, 0.06410428, 0.24897616, 0.31562548, 0.01742031]]])"
      ]
     },
     "execution_count": 47,
     "metadata": {},
     "output_type": "execute_result"
    }
   ],
   "source": [
    "#Select the 5 items from each dimension\n",
    "m[5:10,5:10,5:10]"
   ]
  },
  {
   "cell_type": "code",
   "execution_count": 48,
   "metadata": {},
   "outputs": [
    {
     "data": {
      "text/plain": [
       "array([[0.05540999, 0.84397351, 0.20708615, 0.61140085, 0.00810383],\n",
       "       [0.9083657 , 0.83398919, 0.76502134, 0.16869629, 0.0093861 ],\n",
       "       [0.26332762, 0.79072866, 0.04548757, 0.50080202, 0.18328944],\n",
       "       [0.12595551, 0.44395627, 0.55421482, 0.23242575, 0.26926473],\n",
       "       [0.85891272, 0.80157271, 0.06545963, 0.93703157, 0.2021962 ]])"
      ]
     },
     "execution_count": 48,
     "metadata": {},
     "output_type": "execute_result"
    }
   ],
   "source": [
    "#select the fifth 5 x 5 matrix of the 5th to th elemets on each dimension,\n",
    "m[4,5:10,5:10]"
   ]
  },
  {
   "cell_type": "code",
   "execution_count": 49,
   "metadata": {},
   "outputs": [
    {
     "name": "stdout",
     "output_type": "stream",
     "text": [
      "(5, 5)\n"
     ]
    }
   ],
   "source": [
    "# Notice how the rertuned result has one dimension less\n",
    "print(m[4,5:10,5:10].shape)"
   ]
  },
  {
   "cell_type": "code",
   "execution_count": 50,
   "metadata": {},
   "outputs": [
    {
     "data": {
      "text/plain": [
       "array([], shape=(0, 100), dtype=float64)"
      ]
     },
     "execution_count": 50,
     "metadata": {},
     "output_type": "execute_result"
    }
   ],
   "source": [
    "# Traditional multidimensional addressing will not work as expected.\n",
    "m[4][5:10][5:10]"
   ]
  },
  {
   "cell_type": "code",
   "execution_count": 51,
   "metadata": {},
   "outputs": [
    {
     "name": "stdout",
     "output_type": "stream",
     "text": [
      "(100, 100)\n",
      "(5, 100)\n"
     ]
    }
   ],
   "source": [
    "#Lets break it down\n",
    "print(m[4].shape)\n",
    "\n",
    "print(m[4][5:10].shape)"
   ]
  },
  {
   "cell_type": "markdown",
   "metadata": {},
   "source": [
    "There is the problem: `m[4][5:10]` does not have indexes 5 to 10 because it is only 5 long as a result `m[4][5:10][5:10]` returns a `array([], shape=(0, 100), dtype=float64)` which is an empty array with capacity for a 100 elements in its second dimension. Further more, if no slice or index is specified for some of the dimensions, all of the items for that dimension are returned. This is the reason why `m[4][5:10]` has shapoe `(5, 100)`. In other words:\n",
    "```python\n",
    "m[4][5:10] == m[4][5:10,:]\n",
    "```"
   ]
  },
  {
   "cell_type": "markdown",
   "metadata": {},
   "source": [
    "#### Axis bound operations\n",
    "\n",
    "Now that yo know how to effectively select chunks of data from an n dimensional array lets look at dimension bound operations. \n",
    "\n",
    "In numpy operations over arrays can be bound to a particular dimension. To explain, lets use the mean function."
   ]
  },
  {
   "cell_type": "code",
   "execution_count": 52,
   "metadata": {},
   "outputs": [
    {
     "data": {
      "text/plain": [
       "0.5001472485665921"
      ]
     },
     "execution_count": 52,
     "metadata": {},
     "output_type": "execute_result"
    }
   ],
   "source": [
    "mean(m)"
   ]
  },
  {
   "cell_type": "markdown",
   "metadata": {},
   "source": [
    "Out of the box the mean function computes the mean of all the items in the array. But lets say you want the mean of the columns:"
   ]
  },
  {
   "cell_type": "code",
   "execution_count": 53,
   "metadata": {},
   "outputs": [
    {
     "name": "stdout",
     "output_type": "stream",
     "text": [
      "(100, 3)\n"
     ]
    }
   ],
   "source": [
    "# Lets convert m into a 100 rows by 3 columns matrix\n",
    "m = m[0,:,:3]\n",
    "print(m.shape)"
   ]
  },
  {
   "cell_type": "code",
   "execution_count": 54,
   "metadata": {},
   "outputs": [
    {
     "name": "stdout",
     "output_type": "stream",
     "text": [
      "[0.43796851 0.41477824 0.57944364 0.13912787 0.62965497 0.64049401\n",
      " 0.40124157 0.67922317 0.42570326 0.46217806 0.53691774 0.74842536\n",
      " 0.39265954 0.43983048 0.51739232 0.50045841 0.44532635 0.47990626\n",
      " 0.80476593 0.33537837 0.77563333 0.78547444 0.59423959 0.49008117\n",
      " 0.5617027  0.48968172 0.51021441 0.49283557 0.72163309 0.43591858\n",
      " 0.41807591 0.75809368 0.25723105 0.38866939 0.5387669  0.68837703\n",
      " 0.62565079 0.20435913 0.46910701 0.54352622 0.55806896 0.24205343\n",
      " 0.64916024 0.51766224 0.51825871 0.74674273 0.29634545 0.52190266\n",
      " 0.18989155 0.35704555 0.26199469 0.56091052 0.4954776  0.22180898\n",
      " 0.47951091 0.47736207 0.59067248 0.44653492 0.51685171 0.43427388\n",
      " 0.93054354 0.75050618 0.63504087 0.42236273 0.51990536 0.61245196\n",
      " 0.64164652 0.53277832 0.27731859 0.37769018 0.53004248 0.38992623\n",
      " 0.36756018 0.46880832 0.51170285 0.78857676 0.57165115 0.47577317\n",
      " 0.28090609 0.39636257 0.47562236 0.37449811 0.4205754  0.36757667\n",
      " 0.32236584 0.2800805  0.49248507 0.56297263 0.6177767  0.53547016\n",
      " 0.30536973 0.64696534 0.27231575 0.34772158 0.59264786 0.3101876\n",
      " 0.73355661 0.48875343 0.70483049 0.41066254]\n",
      "(100,)\n"
     ]
    }
   ],
   "source": [
    "# The mean of the columns, or conversly computing the mean by row \n",
    "# can be done as follows:\n",
    "\n",
    "print(m.mean(axis=1))\n",
    "print(m.mean(axis=1).shape)"
   ]
  },
  {
   "cell_type": "code",
   "execution_count": 55,
   "metadata": {},
   "outputs": [
    {
     "name": "stdout",
     "output_type": "stream",
     "text": [
      "[0.53702288 0.4905384  0.46003862]\n",
      "(3,)\n"
     ]
    }
   ],
   "source": [
    "# alternatively the mean of the rows, or computing the mean by \n",
    "# column can be done as follows:\n",
    "print(m.mean(axis=0))\n",
    "print(m.mean(axis=0).shape)"
   ]
  },
  {
   "cell_type": "markdown",
   "metadata": {},
   "source": [
    "### Data Files and Plots"
   ]
  },
  {
   "cell_type": "markdown",
   "metadata": {},
   "source": [
    "Now that you know how to write efficient analysis programs, you will learn to load data files and create different ways to visualize the data.\n"
   ]
  },
  {
   "cell_type": "code",
   "execution_count": 56,
   "metadata": {},
   "outputs": [
    {
     "data": {
      "text/plain": [
       "{'data': array([[5.1, 3.5, 1.4, 0.2],\n",
       "        [4.9, 3. , 1.4, 0.2],\n",
       "        [4.7, 3.2, 1.3, 0.2],\n",
       "        [4.6, 3.1, 1.5, 0.2],\n",
       "        [5. , 3.6, 1.4, 0.2],\n",
       "        [5.4, 3.9, 1.7, 0.4],\n",
       "        [4.6, 3.4, 1.4, 0.3],\n",
       "        [5. , 3.4, 1.5, 0.2],\n",
       "        [4.4, 2.9, 1.4, 0.2],\n",
       "        [4.9, 3.1, 1.5, 0.1],\n",
       "        [5.4, 3.7, 1.5, 0.2],\n",
       "        [4.8, 3.4, 1.6, 0.2],\n",
       "        [4.8, 3. , 1.4, 0.1],\n",
       "        [4.3, 3. , 1.1, 0.1],\n",
       "        [5.8, 4. , 1.2, 0.2],\n",
       "        [5.7, 4.4, 1.5, 0.4],\n",
       "        [5.4, 3.9, 1.3, 0.4],\n",
       "        [5.1, 3.5, 1.4, 0.3],\n",
       "        [5.7, 3.8, 1.7, 0.3],\n",
       "        [5.1, 3.8, 1.5, 0.3],\n",
       "        [5.4, 3.4, 1.7, 0.2],\n",
       "        [5.1, 3.7, 1.5, 0.4],\n",
       "        [4.6, 3.6, 1. , 0.2],\n",
       "        [5.1, 3.3, 1.7, 0.5],\n",
       "        [4.8, 3.4, 1.9, 0.2],\n",
       "        [5. , 3. , 1.6, 0.2],\n",
       "        [5. , 3.4, 1.6, 0.4],\n",
       "        [5.2, 3.5, 1.5, 0.2],\n",
       "        [5.2, 3.4, 1.4, 0.2],\n",
       "        [4.7, 3.2, 1.6, 0.2],\n",
       "        [4.8, 3.1, 1.6, 0.2],\n",
       "        [5.4, 3.4, 1.5, 0.4],\n",
       "        [5.2, 4.1, 1.5, 0.1],\n",
       "        [5.5, 4.2, 1.4, 0.2],\n",
       "        [4.9, 3.1, 1.5, 0.2],\n",
       "        [5. , 3.2, 1.2, 0.2],\n",
       "        [5.5, 3.5, 1.3, 0.2],\n",
       "        [4.9, 3.6, 1.4, 0.1],\n",
       "        [4.4, 3. , 1.3, 0.2],\n",
       "        [5.1, 3.4, 1.5, 0.2],\n",
       "        [5. , 3.5, 1.3, 0.3],\n",
       "        [4.5, 2.3, 1.3, 0.3],\n",
       "        [4.4, 3.2, 1.3, 0.2],\n",
       "        [5. , 3.5, 1.6, 0.6],\n",
       "        [5.1, 3.8, 1.9, 0.4],\n",
       "        [4.8, 3. , 1.4, 0.3],\n",
       "        [5.1, 3.8, 1.6, 0.2],\n",
       "        [4.6, 3.2, 1.4, 0.2],\n",
       "        [5.3, 3.7, 1.5, 0.2],\n",
       "        [5. , 3.3, 1.4, 0.2],\n",
       "        [7. , 3.2, 4.7, 1.4],\n",
       "        [6.4, 3.2, 4.5, 1.5],\n",
       "        [6.9, 3.1, 4.9, 1.5],\n",
       "        [5.5, 2.3, 4. , 1.3],\n",
       "        [6.5, 2.8, 4.6, 1.5],\n",
       "        [5.7, 2.8, 4.5, 1.3],\n",
       "        [6.3, 3.3, 4.7, 1.6],\n",
       "        [4.9, 2.4, 3.3, 1. ],\n",
       "        [6.6, 2.9, 4.6, 1.3],\n",
       "        [5.2, 2.7, 3.9, 1.4],\n",
       "        [5. , 2. , 3.5, 1. ],\n",
       "        [5.9, 3. , 4.2, 1.5],\n",
       "        [6. , 2.2, 4. , 1. ],\n",
       "        [6.1, 2.9, 4.7, 1.4],\n",
       "        [5.6, 2.9, 3.6, 1.3],\n",
       "        [6.7, 3.1, 4.4, 1.4],\n",
       "        [5.6, 3. , 4.5, 1.5],\n",
       "        [5.8, 2.7, 4.1, 1. ],\n",
       "        [6.2, 2.2, 4.5, 1.5],\n",
       "        [5.6, 2.5, 3.9, 1.1],\n",
       "        [5.9, 3.2, 4.8, 1.8],\n",
       "        [6.1, 2.8, 4. , 1.3],\n",
       "        [6.3, 2.5, 4.9, 1.5],\n",
       "        [6.1, 2.8, 4.7, 1.2],\n",
       "        [6.4, 2.9, 4.3, 1.3],\n",
       "        [6.6, 3. , 4.4, 1.4],\n",
       "        [6.8, 2.8, 4.8, 1.4],\n",
       "        [6.7, 3. , 5. , 1.7],\n",
       "        [6. , 2.9, 4.5, 1.5],\n",
       "        [5.7, 2.6, 3.5, 1. ],\n",
       "        [5.5, 2.4, 3.8, 1.1],\n",
       "        [5.5, 2.4, 3.7, 1. ],\n",
       "        [5.8, 2.7, 3.9, 1.2],\n",
       "        [6. , 2.7, 5.1, 1.6],\n",
       "        [5.4, 3. , 4.5, 1.5],\n",
       "        [6. , 3.4, 4.5, 1.6],\n",
       "        [6.7, 3.1, 4.7, 1.5],\n",
       "        [6.3, 2.3, 4.4, 1.3],\n",
       "        [5.6, 3. , 4.1, 1.3],\n",
       "        [5.5, 2.5, 4. , 1.3],\n",
       "        [5.5, 2.6, 4.4, 1.2],\n",
       "        [6.1, 3. , 4.6, 1.4],\n",
       "        [5.8, 2.6, 4. , 1.2],\n",
       "        [5. , 2.3, 3.3, 1. ],\n",
       "        [5.6, 2.7, 4.2, 1.3],\n",
       "        [5.7, 3. , 4.2, 1.2],\n",
       "        [5.7, 2.9, 4.2, 1.3],\n",
       "        [6.2, 2.9, 4.3, 1.3],\n",
       "        [5.1, 2.5, 3. , 1.1],\n",
       "        [5.7, 2.8, 4.1, 1.3],\n",
       "        [6.3, 3.3, 6. , 2.5],\n",
       "        [5.8, 2.7, 5.1, 1.9],\n",
       "        [7.1, 3. , 5.9, 2.1],\n",
       "        [6.3, 2.9, 5.6, 1.8],\n",
       "        [6.5, 3. , 5.8, 2.2],\n",
       "        [7.6, 3. , 6.6, 2.1],\n",
       "        [4.9, 2.5, 4.5, 1.7],\n",
       "        [7.3, 2.9, 6.3, 1.8],\n",
       "        [6.7, 2.5, 5.8, 1.8],\n",
       "        [7.2, 3.6, 6.1, 2.5],\n",
       "        [6.5, 3.2, 5.1, 2. ],\n",
       "        [6.4, 2.7, 5.3, 1.9],\n",
       "        [6.8, 3. , 5.5, 2.1],\n",
       "        [5.7, 2.5, 5. , 2. ],\n",
       "        [5.8, 2.8, 5.1, 2.4],\n",
       "        [6.4, 3.2, 5.3, 2.3],\n",
       "        [6.5, 3. , 5.5, 1.8],\n",
       "        [7.7, 3.8, 6.7, 2.2],\n",
       "        [7.7, 2.6, 6.9, 2.3],\n",
       "        [6. , 2.2, 5. , 1.5],\n",
       "        [6.9, 3.2, 5.7, 2.3],\n",
       "        [5.6, 2.8, 4.9, 2. ],\n",
       "        [7.7, 2.8, 6.7, 2. ],\n",
       "        [6.3, 2.7, 4.9, 1.8],\n",
       "        [6.7, 3.3, 5.7, 2.1],\n",
       "        [7.2, 3.2, 6. , 1.8],\n",
       "        [6.2, 2.8, 4.8, 1.8],\n",
       "        [6.1, 3. , 4.9, 1.8],\n",
       "        [6.4, 2.8, 5.6, 2.1],\n",
       "        [7.2, 3. , 5.8, 1.6],\n",
       "        [7.4, 2.8, 6.1, 1.9],\n",
       "        [7.9, 3.8, 6.4, 2. ],\n",
       "        [6.4, 2.8, 5.6, 2.2],\n",
       "        [6.3, 2.8, 5.1, 1.5],\n",
       "        [6.1, 2.6, 5.6, 1.4],\n",
       "        [7.7, 3. , 6.1, 2.3],\n",
       "        [6.3, 3.4, 5.6, 2.4],\n",
       "        [6.4, 3.1, 5.5, 1.8],\n",
       "        [6. , 3. , 4.8, 1.8],\n",
       "        [6.9, 3.1, 5.4, 2.1],\n",
       "        [6.7, 3.1, 5.6, 2.4],\n",
       "        [6.9, 3.1, 5.1, 2.3],\n",
       "        [5.8, 2.7, 5.1, 1.9],\n",
       "        [6.8, 3.2, 5.9, 2.3],\n",
       "        [6.7, 3.3, 5.7, 2.5],\n",
       "        [6.7, 3. , 5.2, 2.3],\n",
       "        [6.3, 2.5, 5. , 1.9],\n",
       "        [6.5, 3. , 5.2, 2. ],\n",
       "        [6.2, 3.4, 5.4, 2.3],\n",
       "        [5.9, 3. , 5.1, 1.8]]),\n",
       " 'target': array([0, 0, 0, 0, 0, 0, 0, 0, 0, 0, 0, 0, 0, 0, 0, 0, 0, 0, 0, 0, 0, 0,\n",
       "        0, 0, 0, 0, 0, 0, 0, 0, 0, 0, 0, 0, 0, 0, 0, 0, 0, 0, 0, 0, 0, 0,\n",
       "        0, 0, 0, 0, 0, 0, 1, 1, 1, 1, 1, 1, 1, 1, 1, 1, 1, 1, 1, 1, 1, 1,\n",
       "        1, 1, 1, 1, 1, 1, 1, 1, 1, 1, 1, 1, 1, 1, 1, 1, 1, 1, 1, 1, 1, 1,\n",
       "        1, 1, 1, 1, 1, 1, 1, 1, 1, 1, 1, 1, 2, 2, 2, 2, 2, 2, 2, 2, 2, 2,\n",
       "        2, 2, 2, 2, 2, 2, 2, 2, 2, 2, 2, 2, 2, 2, 2, 2, 2, 2, 2, 2, 2, 2,\n",
       "        2, 2, 2, 2, 2, 2, 2, 2, 2, 2, 2, 2, 2, 2, 2, 2, 2, 2]),\n",
       " 'target_names': array(['setosa', 'versicolor', 'virginica'], dtype='<U10'),\n",
       " 'DESCR': '.. _iris_dataset:\\n\\nIris plants dataset\\n--------------------\\n\\n**Data Set Characteristics:**\\n\\n    :Number of Instances: 150 (50 in each of three classes)\\n    :Number of Attributes: 4 numeric, predictive attributes and the class\\n    :Attribute Information:\\n        - sepal length in cm\\n        - sepal width in cm\\n        - petal length in cm\\n        - petal width in cm\\n        - class:\\n                - Iris-Setosa\\n                - Iris-Versicolour\\n                - Iris-Virginica\\n                \\n    :Summary Statistics:\\n\\n    ============== ==== ==== ======= ===== ====================\\n                    Min  Max   Mean    SD   Class Correlation\\n    ============== ==== ==== ======= ===== ====================\\n    sepal length:   4.3  7.9   5.84   0.83    0.7826\\n    sepal width:    2.0  4.4   3.05   0.43   -0.4194\\n    petal length:   1.0  6.9   3.76   1.76    0.9490  (high!)\\n    petal width:    0.1  2.5   1.20   0.76    0.9565  (high!)\\n    ============== ==== ==== ======= ===== ====================\\n\\n    :Missing Attribute Values: None\\n    :Class Distribution: 33.3% for each of 3 classes.\\n    :Creator: R.A. Fisher\\n    :Donor: Michael Marshall (MARSHALL%PLU@io.arc.nasa.gov)\\n    :Date: July, 1988\\n\\nThe famous Iris database, first used by Sir R.A. Fisher. The dataset is taken\\nfrom Fisher\\'s paper. Note that it\\'s the same as in R, but not as in the UCI\\nMachine Learning Repository, which has two wrong data points.\\n\\nThis is perhaps the best known database to be found in the\\npattern recognition literature.  Fisher\\'s paper is a classic in the field and\\nis referenced frequently to this day.  (See Duda & Hart, for example.)  The\\ndata set contains 3 classes of 50 instances each, where each class refers to a\\ntype of iris plant.  One class is linearly separable from the other 2; the\\nlatter are NOT linearly separable from each other.\\n\\n.. topic:: References\\n\\n   - Fisher, R.A. \"The use of multiple measurements in taxonomic problems\"\\n     Annual Eugenics, 7, Part II, 179-188 (1936); also in \"Contributions to\\n     Mathematical Statistics\" (John Wiley, NY, 1950).\\n   - Duda, R.O., & Hart, P.E. (1973) Pattern Classification and Scene Analysis.\\n     (Q327.D83) John Wiley & Sons.  ISBN 0-471-22361-1.  See page 218.\\n   - Dasarathy, B.V. (1980) \"Nosing Around the Neighborhood: A New System\\n     Structure and Classification Rule for Recognition in Partially Exposed\\n     Environments\".  IEEE Transactions on Pattern Analysis and Machine\\n     Intelligence, Vol. PAMI-2, No. 1, 67-71.\\n   - Gates, G.W. (1972) \"The Reduced Nearest Neighbor Rule\".  IEEE Transactions\\n     on Information Theory, May 1972, 431-433.\\n   - See also: 1988 MLC Proceedings, 54-64.  Cheeseman et al\"s AUTOCLASS II\\n     conceptual clustering system finds 3 classes in the data.\\n   - Many, many more ...',\n",
       " 'feature_names': ['sepal length (cm)',\n",
       "  'sepal width (cm)',\n",
       "  'petal length (cm)',\n",
       "  'petal width (cm)'],\n",
       " 'filename': 'C:\\\\Users\\\\rajib\\\\.conda\\\\envs\\\\ITS\\\\lib\\\\site-packages\\\\sklearn\\\\datasets\\\\data\\\\iris.csv'}"
      ]
     },
     "execution_count": 56,
     "metadata": {},
     "output_type": "execute_result"
    }
   ],
   "source": [
    "# import a single function from a package\n",
    "from scipy.io import loadmat\n",
    "from sklearn import datasets\n",
    "\n",
    "iris = datasets.load_iris()\n",
    "\n",
    "iris"
   ]
  },
  {
   "cell_type": "markdown",
   "metadata": {},
   "source": [
    "Extract the first two columns from the file structure"
   ]
  },
  {
   "cell_type": "code",
   "execution_count": 58,
   "metadata": {},
   "outputs": [
    {
     "data": {
      "text/plain": [
       "array([[5.1, 3.5],\n",
       "       [4.9, 3. ],\n",
       "       [4.7, 3.2],\n",
       "       [4.6, 3.1],\n",
       "       [5. , 3.6],\n",
       "       [5.4, 3.9],\n",
       "       [4.6, 3.4],\n",
       "       [5. , 3.4],\n",
       "       [4.4, 2.9],\n",
       "       [4.9, 3.1],\n",
       "       [5.4, 3.7],\n",
       "       [4.8, 3.4],\n",
       "       [4.8, 3. ],\n",
       "       [4.3, 3. ],\n",
       "       [5.8, 4. ],\n",
       "       [5.7, 4.4],\n",
       "       [5.4, 3.9],\n",
       "       [5.1, 3.5],\n",
       "       [5.7, 3.8],\n",
       "       [5.1, 3.8],\n",
       "       [5.4, 3.4],\n",
       "       [5.1, 3.7],\n",
       "       [4.6, 3.6],\n",
       "       [5.1, 3.3],\n",
       "       [4.8, 3.4],\n",
       "       [5. , 3. ],\n",
       "       [5. , 3.4],\n",
       "       [5.2, 3.5],\n",
       "       [5.2, 3.4],\n",
       "       [4.7, 3.2],\n",
       "       [4.8, 3.1],\n",
       "       [5.4, 3.4],\n",
       "       [5.2, 4.1],\n",
       "       [5.5, 4.2],\n",
       "       [4.9, 3.1],\n",
       "       [5. , 3.2],\n",
       "       [5.5, 3.5],\n",
       "       [4.9, 3.6],\n",
       "       [4.4, 3. ],\n",
       "       [5.1, 3.4],\n",
       "       [5. , 3.5],\n",
       "       [4.5, 2.3],\n",
       "       [4.4, 3.2],\n",
       "       [5. , 3.5],\n",
       "       [5.1, 3.8],\n",
       "       [4.8, 3. ],\n",
       "       [5.1, 3.8],\n",
       "       [4.6, 3.2],\n",
       "       [5.3, 3.7],\n",
       "       [5. , 3.3],\n",
       "       [7. , 3.2],\n",
       "       [6.4, 3.2],\n",
       "       [6.9, 3.1],\n",
       "       [5.5, 2.3],\n",
       "       [6.5, 2.8],\n",
       "       [5.7, 2.8],\n",
       "       [6.3, 3.3],\n",
       "       [4.9, 2.4],\n",
       "       [6.6, 2.9],\n",
       "       [5.2, 2.7],\n",
       "       [5. , 2. ],\n",
       "       [5.9, 3. ],\n",
       "       [6. , 2.2],\n",
       "       [6.1, 2.9],\n",
       "       [5.6, 2.9],\n",
       "       [6.7, 3.1],\n",
       "       [5.6, 3. ],\n",
       "       [5.8, 2.7],\n",
       "       [6.2, 2.2],\n",
       "       [5.6, 2.5],\n",
       "       [5.9, 3.2],\n",
       "       [6.1, 2.8],\n",
       "       [6.3, 2.5],\n",
       "       [6.1, 2.8],\n",
       "       [6.4, 2.9],\n",
       "       [6.6, 3. ],\n",
       "       [6.8, 2.8],\n",
       "       [6.7, 3. ],\n",
       "       [6. , 2.9],\n",
       "       [5.7, 2.6],\n",
       "       [5.5, 2.4],\n",
       "       [5.5, 2.4],\n",
       "       [5.8, 2.7],\n",
       "       [6. , 2.7],\n",
       "       [5.4, 3. ],\n",
       "       [6. , 3.4],\n",
       "       [6.7, 3.1],\n",
       "       [6.3, 2.3],\n",
       "       [5.6, 3. ],\n",
       "       [5.5, 2.5],\n",
       "       [5.5, 2.6],\n",
       "       [6.1, 3. ],\n",
       "       [5.8, 2.6],\n",
       "       [5. , 2.3],\n",
       "       [5.6, 2.7],\n",
       "       [5.7, 3. ],\n",
       "       [5.7, 2.9],\n",
       "       [6.2, 2.9],\n",
       "       [5.1, 2.5],\n",
       "       [5.7, 2.8],\n",
       "       [6.3, 3.3],\n",
       "       [5.8, 2.7],\n",
       "       [7.1, 3. ],\n",
       "       [6.3, 2.9],\n",
       "       [6.5, 3. ],\n",
       "       [7.6, 3. ],\n",
       "       [4.9, 2.5],\n",
       "       [7.3, 2.9],\n",
       "       [6.7, 2.5],\n",
       "       [7.2, 3.6],\n",
       "       [6.5, 3.2],\n",
       "       [6.4, 2.7],\n",
       "       [6.8, 3. ],\n",
       "       [5.7, 2.5],\n",
       "       [5.8, 2.8],\n",
       "       [6.4, 3.2],\n",
       "       [6.5, 3. ],\n",
       "       [7.7, 3.8],\n",
       "       [7.7, 2.6],\n",
       "       [6. , 2.2],\n",
       "       [6.9, 3.2],\n",
       "       [5.6, 2.8],\n",
       "       [7.7, 2.8],\n",
       "       [6.3, 2.7],\n",
       "       [6.7, 3.3],\n",
       "       [7.2, 3.2],\n",
       "       [6.2, 2.8],\n",
       "       [6.1, 3. ],\n",
       "       [6.4, 2.8],\n",
       "       [7.2, 3. ],\n",
       "       [7.4, 2.8],\n",
       "       [7.9, 3.8],\n",
       "       [6.4, 2.8],\n",
       "       [6.3, 2.8],\n",
       "       [6.1, 2.6],\n",
       "       [7.7, 3. ],\n",
       "       [6.3, 3.4],\n",
       "       [6.4, 3.1],\n",
       "       [6. , 3. ],\n",
       "       [6.9, 3.1],\n",
       "       [6.7, 3.1],\n",
       "       [6.9, 3.1],\n",
       "       [5.8, 2.7],\n",
       "       [6.8, 3.2],\n",
       "       [6.7, 3.3],\n",
       "       [6.7, 3. ],\n",
       "       [6.3, 2.5],\n",
       "       [6.5, 3. ],\n",
       "       [6.2, 3.4],\n",
       "       [5.9, 3. ]])"
      ]
     },
     "execution_count": 58,
     "metadata": {},
     "output_type": "execute_result"
    }
   ],
   "source": [
    "matrix = iris.data[:, :2]\n",
    "matrix\n"
   ]
  },
  {
   "cell_type": "markdown",
   "metadata": {},
   "source": [
    "Now that you have extracted the 2 dimensional array plot the traces"
   ]
  },
  {
   "cell_type": "code",
   "execution_count": 59,
   "metadata": {},
   "outputs": [
    {
     "data": {
      "text/plain": [
       "[<matplotlib.lines.Line2D at 0x192144d7cc8>]"
      ]
     },
     "execution_count": 59,
     "metadata": {},
     "output_type": "execute_result"
    },
    {
     "data": {
      "image/png": "[encoded data removed]",
      "text/plain": [
       "<Figure size 432x288 with 1 Axes>"
      ]
     },
     "metadata": {
      "needs_background": "light"
     },
     "output_type": "display_data"
    }
   ],
   "source": [
    "#plot sepal length in cm\n",
    "plot(matrix[:,0], 'r.')"
   ]
  },
  {
   "cell_type": "code",
   "execution_count": 60,
   "metadata": {},
   "outputs": [
    {
     "data": {
      "text/plain": [
       "[<matplotlib.lines.Line2D at 0x19214588b88>]"
      ]
     },
     "execution_count": 60,
     "metadata": {},
     "output_type": "execute_result"
    },
    {
     "data": {
      "image/png": "[encoded data removed]",
      "text/plain": [
       "<Figure size 432x288 with 1 Axes>"
      ]
     },
     "metadata": {
      "needs_background": "light"
     },
     "output_type": "display_data"
    }
   ],
   "source": [
    "#plot sepal width in cm\n",
    "plot(matrix[:,1], 'r.')"
   ]
  },
  {
   "cell_type": "markdown",
   "metadata": {},
   "source": [
    "Try some examples from the [cookbook](https://scipy.github.io/old-wiki/pages/Cookbook/Matplotlib.html) to make your plot look nice."
   ]
  },
  {
   "cell_type": "code",
   "execution_count": null,
   "metadata": {},
   "outputs": [],
   "source": [
    "#use this box to try a few things"
   ]
  },
  {
   "cell_type": "markdown",
   "metadata": {},
   "source": [
    "Now lets plot a histogram of the values in the first dimension"
   ]
  },
  {
   "cell_type": "code",
   "execution_count": 72,
   "metadata": {},
   "outputs": [
    {
     "name": "stdout",
     "output_type": "stream",
     "text": [
      "[[5.1 3.5]\n",
      " [4.9 3. ]\n",
      " [4.7 3.2]\n",
      " [4.6 3.1]\n",
      " [5.  3.6]\n",
      " [5.4 3.9]\n",
      " [4.6 3.4]\n",
      " [5.  3.4]\n",
      " [4.4 2.9]\n",
      " [4.9 3.1]\n",
      " [5.4 3.7]\n",
      " [4.8 3.4]\n",
      " [4.8 3. ]\n",
      " [4.3 3. ]\n",
      " [5.8 4. ]\n",
      " [5.7 4.4]\n",
      " [5.4 3.9]\n",
      " [5.1 3.5]\n",
      " [5.7 3.8]\n",
      " [5.1 3.8]\n",
      " [5.4 3.4]\n",
      " [5.1 3.7]\n",
      " [4.6 3.6]\n",
      " [5.1 3.3]\n",
      " [4.8 3.4]\n",
      " [5.  3. ]\n",
      " [5.  3.4]\n",
      " [5.2 3.5]\n",
      " [5.2 3.4]\n",
      " [4.7 3.2]\n",
      " [4.8 3.1]\n",
      " [5.4 3.4]\n",
      " [5.2 4.1]\n",
      " [5.5 4.2]\n",
      " [4.9 3.1]\n",
      " [5.  3.2]\n",
      " [5.5 3.5]\n",
      " [4.9 3.6]\n",
      " [4.4 3. ]\n",
      " [5.1 3.4]\n",
      " [5.  3.5]\n",
      " [4.5 2.3]\n",
      " [4.4 3.2]\n",
      " [5.  3.5]\n",
      " [5.1 3.8]\n",
      " [4.8 3. ]\n",
      " [5.1 3.8]\n",
      " [4.6 3.2]\n",
      " [5.3 3.7]\n",
      " [5.  3.3]\n",
      " [7.  3.2]\n",
      " [6.4 3.2]\n",
      " [6.9 3.1]\n",
      " [5.5 2.3]\n",
      " [6.5 2.8]\n",
      " [5.7 2.8]\n",
      " [6.3 3.3]\n",
      " [4.9 2.4]\n",
      " [6.6 2.9]\n",
      " [5.2 2.7]\n",
      " [5.  2. ]\n",
      " [5.9 3. ]\n",
      " [6.  2.2]\n",
      " [6.1 2.9]\n",
      " [5.6 2.9]\n",
      " [6.7 3.1]\n",
      " [5.6 3. ]\n",
      " [5.8 2.7]\n",
      " [6.2 2.2]\n",
      " [5.6 2.5]\n",
      " [5.9 3.2]\n",
      " [6.1 2.8]\n",
      " [6.3 2.5]\n",
      " [6.1 2.8]\n",
      " [6.4 2.9]\n",
      " [6.6 3. ]\n",
      " [6.8 2.8]\n",
      " [6.7 3. ]\n",
      " [6.  2.9]\n",
      " [5.7 2.6]\n",
      " [5.5 2.4]\n",
      " [5.5 2.4]\n",
      " [5.8 2.7]\n",
      " [6.  2.7]\n",
      " [5.4 3. ]\n",
      " [6.  3.4]\n",
      " [6.7 3.1]\n",
      " [6.3 2.3]\n",
      " [5.6 3. ]\n",
      " [5.5 2.5]\n",
      " [5.5 2.6]\n",
      " [6.1 3. ]\n",
      " [5.8 2.6]\n",
      " [5.  2.3]\n",
      " [5.6 2.7]\n",
      " [5.7 3. ]\n",
      " [5.7 2.9]\n",
      " [6.2 2.9]\n",
      " [5.1 2.5]\n",
      " [5.7 2.8]\n",
      " [6.3 3.3]\n",
      " [5.8 2.7]\n",
      " [7.1 3. ]\n",
      " [6.3 2.9]\n",
      " [6.5 3. ]\n",
      " [7.6 3. ]\n",
      " [4.9 2.5]\n",
      " [7.3 2.9]\n",
      " [6.7 2.5]\n",
      " [7.2 3.6]\n",
      " [6.5 3.2]\n",
      " [6.4 2.7]\n",
      " [6.8 3. ]\n",
      " [5.7 2.5]\n",
      " [5.8 2.8]\n",
      " [6.4 3.2]\n",
      " [6.5 3. ]\n",
      " [7.7 3.8]\n",
      " [7.7 2.6]\n",
      " [6.  2.2]\n",
      " [6.9 3.2]\n",
      " [5.6 2.8]\n",
      " [7.7 2.8]\n",
      " [6.3 2.7]\n",
      " [6.7 3.3]\n",
      " [7.2 3.2]\n",
      " [6.2 2.8]\n",
      " [6.1 3. ]\n",
      " [6.4 2.8]\n",
      " [7.2 3. ]\n",
      " [7.4 2.8]\n",
      " [7.9 3.8]\n",
      " [6.4 2.8]\n",
      " [6.3 2.8]\n",
      " [6.1 2.6]\n",
      " [7.7 3. ]\n",
      " [6.3 3.4]\n",
      " [6.4 3.1]\n",
      " [6.  3. ]\n",
      " [6.9 3.1]\n",
      " [6.7 3.1]\n",
      " [6.9 3.1]\n",
      " [5.8 2.7]\n",
      " [6.8 3.2]\n",
      " [6.7 3.3]\n",
      " [6.7 3. ]\n",
      " [6.3 2.5]\n",
      " [6.5 3. ]\n",
      " [6.2 3.4]\n",
      " [5.9 3. ]]\n",
      "[5.1 4.9 4.7 4.6 5.  5.4 4.6 5.  4.4 4.9 5.4 4.8 4.8 4.3 5.8 5.7 5.4 5.1\n",
      " 5.7 5.1 5.4 5.1 4.6 5.1 4.8 5.  5.  5.2 5.2 4.7 4.8 5.4 5.2 5.5 4.9 5.\n",
      " 5.5 4.9 4.4 5.1 5.  4.5 4.4 5.  5.1 4.8 5.1 4.6 5.3 5.  7.  6.4 6.9 5.5\n",
      " 6.5 5.7 6.3 4.9 6.6 5.2 5.  5.9 6.  6.1 5.6 6.7 5.6 5.8 6.2 5.6 5.9 6.1\n",
      " 6.3 6.1 6.4 6.6 6.8 6.7 6.  5.7 5.5 5.5 5.8 6.  5.4 6.  6.7 6.3 5.6 5.5\n",
      " 5.5 6.1 5.8 5.  5.6 5.7 5.7 6.2 5.1 5.7 6.3 5.8 7.1 6.3 6.5 7.6 4.9 7.3\n",
      " 6.7 7.2 6.5 6.4 6.8 5.7 5.8 6.4 6.5 7.7 7.7 6.  6.9 5.6 7.7 6.3 6.7 7.2\n",
      " 6.2 6.1 6.4 7.2 7.4 7.9 6.4 6.3 6.1 7.7 6.3 6.4 6.  6.9 6.7 6.9 5.8 6.8\n",
      " 6.7 6.7 6.3 6.5 6.2 5.9]\n"
     ]
    },
    {
     "data": {
      "image/png": "[encoded data removed]",
      "text/plain": [
       "<Figure size 432x288 with 1 Axes>"
      ]
     },
     "metadata": {
      "needs_background": "light"
     },
     "output_type": "display_data"
    }
   ],
   "source": [
    "print(matrix)\n",
    "print(matrix[:,0])\n",
    "h = hist(matrix[:,0],bins=50)\n"
   ]
  },
  {
   "cell_type": "code",
   "execution_count": 62,
   "metadata": {},
   "outputs": [
    {
     "data": {
      "image/png": "[encoded data removed]",
      "text/plain": [
       "<Figure size 432x288 with 1 Axes>"
      ]
     },
     "metadata": {
      "needs_background": "light"
     },
     "output_type": "display_data"
    }
   ],
   "source": [
    "# Include detail by increasing the number of bins\n",
    "h = hist(matrix[:,0],bins=100)"
   ]
  },
  {
   "cell_type": "code",
   "execution_count": null,
   "metadata": {},
   "outputs": [],
   "source": []
  }
 ],
 "metadata": {
  "kernelspec": {
   "display_name": "Python 3",
   "language": "python",
   "name": "python3"
  },
  "language_info": {
   "codemirror_mode": {
    "name": "ipython",
    "version": 3
   },
   "file_extension": ".py",
   "mimetype": "text/x-python",
   "name": "python",
   "nbconvert_exporter": "python",
   "pygments_lexer": "ipython3",
   "version": "3.7.5"
  }
 },
 "nbformat": 4,
 "nbformat_minor": 1
}
