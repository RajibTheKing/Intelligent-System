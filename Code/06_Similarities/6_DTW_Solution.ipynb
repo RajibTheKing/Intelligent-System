{
 "cells": [
  {
   "cell_type": "markdown",
   "metadata": {},
   "source": [
    "# Intelligent Systems\n",
    "# Exercise 06 / Similarities\n",
    "### Working Group: Intelligent Systems\n",
    "### Lecture: Prof. Dr.-Ing. habil.  Sven Tomforde\n",
    "### Exercise: Ma. Sc. Simon Reichhuber (mail to: [Simon.Reichhuber@informatik.uni-kiel.de](mailto:Simon.Reichhuber@informatik.uni-kiel.de))"
   ]
  },
  {
   "cell_type": "code",
   "execution_count": 5,
   "metadata": {},
   "outputs": [],
   "source": [
    "import scipy.spatial.distance as dist\n",
    "import pandas as pd\n",
    "import numpy as np\n",
    "import matplotlib.pyplot as plt\n",
    "#import seaborn as sns"
   ]
  },
  {
   "cell_type": "markdown",
   "metadata": {},
   "source": [
    "-----"
   ]
  },
  {
   "cell_type": "code",
   "execution_count": 6,
   "metadata": {},
   "outputs": [],
   "source": [
    "# Nothing to do here\n",
    "def path_cost(A, B, accumulated_cost, distances):\n",
    "    \"\"\"Method for backtrackign algorithm and calculation of overall distance.\"\"\"\n",
    "    \n",
    "    path = [[len(A)-1, len(B)-1]]\n",
    "    cost = 0\n",
    "    i = len(B)-1\n",
    "    j = len(A)-1\n",
    "    while i>0 and j>0:\n",
    "        if i==0:\n",
    "            j = j - 1\n",
    "        elif j==0:\n",
    "            i = i - 1\n",
    "        else:\n",
    "            if accumulated_cost[i-1, j] == min(accumulated_cost[i-1, j-1], accumulated_cost[i-1, j], accumulated_cost[i, j-1]):\n",
    "                i = i - 1\n",
    "            elif accumulated_cost[i, j-1] == min(accumulated_cost[i-1, j-1], accumulated_cost[i-1, j], accumulated_cost[i, j-1]):\n",
    "                j = j-1\n",
    "            else:\n",
    "                i = i - 1\n",
    "                j= j- 1\n",
    "        path.append([j, i])\n",
    "    path.append([0,0])\n",
    "    for [B, A] in path:\n",
    "        cost = cost + distances[A, B]\n",
    "    return path, cost "
   ]
  },
  {
   "cell_type": "code",
   "execution_count": 7,
   "metadata": {},
   "outputs": [],
   "source": [
    "# Nothing ot do here\n",
    "def distance_cost_heatmap(distances):\n",
    "    \"\"\"Helper method to plot distance matrix as heatmap.\"\"\"\n",
    "        \n",
    "    im = plt.imshow(distances, interpolation='nearest', cmap=\"Reds\") \n",
    "    plt.gca().invert_yaxis()\n",
    "    plt.xlabel(\"A\")\n",
    "    plt.ylabel(\"B\")\n",
    "    plt.grid()\n",
    "    plt.colorbar()\n",
    "    plt.show()"
   ]
  },
  {
   "cell_type": "code",
   "execution_count": 8,
   "metadata": {},
   "outputs": [],
   "source": [
    "# Nothing to do here\n",
    "def plot_dtw_distances(A, B, accumulated_cost, distances):\n",
    "    \"\"\"Helper method for plotting DTW distnaces.\"\"\"\n",
    "    \n",
    "    plt.plot(A, 'bo-' ,label='A')\n",
    "    plt.plot(B, 'g^-', label = 'B')\n",
    "    plt.legend()\n",
    "    paths = path_cost(A, B, accumulated_cost, distances)[0]\n",
    "    for [map_a, map_b] in paths:  \n",
    "        plt.plot([map_a, map_b], [A[map_a], B[map_b]], 'r')\n",
    "    plt.show()"
   ]
  },
  {
   "cell_type": "markdown",
   "metadata": {},
   "source": [
    "----"
   ]
  },
  {
   "cell_type": "code",
   "execution_count": 9,
   "metadata": {},
   "outputs": [],
   "source": [
    "# Two Time Series\n",
    "B = [1,1,3,0,5,1]\n",
    "A = [0,3,0,5,1,1]\n",
    "\n",
    "#A=[0,2,-3,4,0,1,1]\n",
    "#B=[0,0,2,-3,5,0,1]"
   ]
  },
  {
   "cell_type": "code",
   "execution_count": 10,
   "metadata": {},
   "outputs": [
    {
     "data": {
      "image/png": "[encoded data removed]",
      "text/plain": [
       "<Figure size 432x288 with 1 Axes>"
      ]
     },
     "metadata": {
      "needs_background": "light"
     },
     "output_type": "display_data"
    }
   ],
   "source": [
    "plt.plot(A,'r', label='A')\n",
    "plt.plot(B, 'g', label='B')\n",
    "plt.legend()\n",
    "plt.show()"
   ]
  },
  {
   "cell_type": "markdown",
   "metadata": {},
   "source": [
    "# 1. Calculate the similarity of the two time series"
   ]
  },
  {
   "cell_type": "code",
   "execution_count": 11,
   "metadata": {},
   "outputs": [],
   "source": [
    "def cosine_similarity(x, y):\n",
    "    return np.dot(x, y) / (np.sqrt(np.dot(x, x)) * np.sqrt(np.dot(y, y)))"
   ]
  },
  {
   "cell_type": "code",
   "execution_count": 12,
   "metadata": {},
   "outputs": [
    {
     "name": "stdout",
     "output_type": "stream",
     "text": [
      "\n",
      "Distance measurements\n",
      "-------------------------------------------------\n",
      "\n",
      "Euclidean distance is 7.416198487095663\n",
      "Manhattan distance is 15\n",
      "Cosine distance is 0.24659848095803594\n"
     ]
    }
   ],
   "source": [
    "# Perform distance measurements \n",
    "print ('\\nDistance measurements')\n",
    "print ('-------------------------------------------------')\n",
    "print ('\\nEuclidean distance is', dist.euclidean(A, B))\n",
    "print ('Manhattan distance is', dist.cityblock(A, B))\n",
    "print ('Cosine distance is', cosine_similarity(A, B))"
   ]
  },
  {
   "cell_type": "markdown",
   "metadata": {},
   "source": [
    "### Implementiere als nächstes den DTW Algorithmus und Vergleiche die Ergebnisse aus Schritt eins. Warum ist die Verwendung von DTW hier sinnvoll?\n"
   ]
  },
  {
   "cell_type": "markdown",
   "metadata": {},
   "source": [
    "# 2. Use Dynamic Time Warping"
   ]
  },
  {
   "cell_type": "markdown",
   "metadata": {},
   "source": [
    "Dynamic Time Warning (DTW) seeks an optimal alignment between the two time series without assuming that the underlying processes happened at the same <b>speed</b> or for the same amount of time. In other words, the DTW algorithm stretches or compresses two non-linear sequences in making its comparison. This makes it possible to find similarities between sequences that have differences in length, are not in phase, and/or are warped representations of each other:"
   ]
  },
  {
   "cell_type": "markdown",
   "metadata": {},
   "source": [
    "![title](dtw.png)"
   ]
  },
  {
   "cell_type": "markdown",
   "metadata": {},
   "source": [
    "## 2.1. DTW - Create distance matrix"
   ]
  },
  {
   "cell_type": "code",
   "execution_count": 13,
   "metadata": {},
   "outputs": [],
   "source": [
    "distances = np.zeros((len(A), len(B)))\n",
    "\n",
    "for i in range(len(B)):\n",
    "    for j in range(len(A)):\n",
    "        distances[i,j] = np.abs(A[j]-B[i])"
   ]
  },
  {
   "cell_type": "code",
   "execution_count": 14,
   "metadata": {},
   "outputs": [
    {
     "data": {
      "image/png": "[encoded data removed]",
      "text/plain": [
       "<Figure size 432x288 with 2 Axes>"
      ]
     },
     "metadata": {
      "needs_background": "light"
     },
     "output_type": "display_data"
    }
   ],
   "source": [
    "distance_cost_heatmap(distances)"
   ]
  },
  {
   "cell_type": "code",
   "execution_count": 15,
   "metadata": {},
   "outputs": [
    {
     "name": "stdout",
     "output_type": "stream",
     "text": [
      "\\begin{tabular}{lrrrrrr}\n",
      "\\toprule\n",
      "{} &    0 &    1 &    2 &    3 &    4 &    5 \\\\\n",
      "\\midrule\n",
      "0 &  1.0 &  2.0 &  1.0 &  4.0 &  0.0 &  0.0 \\\\\n",
      "1 &  1.0 &  2.0 &  1.0 &  4.0 &  0.0 &  0.0 \\\\\n",
      "2 &  3.0 &  0.0 &  3.0 &  2.0 &  2.0 &  2.0 \\\\\n",
      "3 &  0.0 &  3.0 &  0.0 &  5.0 &  1.0 &  1.0 \\\\\n",
      "4 &  5.0 &  2.0 &  5.0 &  0.0 &  4.0 &  4.0 \\\\\n",
      "5 &  1.0 &  2.0 &  1.0 &  4.0 &  0.0 &  0.0 \\\\\n",
      "\\bottomrule\n",
      "\\end{tabular}\n",
      "\n"
     ]
    }
   ],
   "source": [
    "print(pd.DataFrame(distances).to_latex())"
   ]
  },
  {
   "cell_type": "markdown",
   "metadata": {},
   "source": [
    "## 2.2 DTW - Create accumulated cost matrix"
   ]
  },
  {
   "cell_type": "code",
   "execution_count": 16,
   "metadata": {},
   "outputs": [],
   "source": [
    "accumulated_cost = np.zeros((len(B), len(A)))"
   ]
  },
  {
   "cell_type": "code",
   "execution_count": 17,
   "metadata": {},
   "outputs": [],
   "source": [
    "accumulated_cost[0,0] = distances[0,0]"
   ]
  },
  {
   "cell_type": "code",
   "execution_count": 18,
   "metadata": {},
   "outputs": [],
   "source": [
    "for i in range(1, len(A)):\n",
    "    accumulated_cost[0,i] = distances[0,i] + accumulated_cost[0, i-1]   \n",
    "\n",
    "for i in range(1, len(B)):\n",
    "    accumulated_cost[i,0] = distances[i, 0] + accumulated_cost[i-1, 0]    \n",
    "    \n",
    "for i in range(1, len(B)):\n",
    "    for j in range(1, len(A)):\n",
    "        accumulated_cost[i, j] = min(accumulated_cost[i-1, j-1], accumulated_cost[i-1, j], accumulated_cost[i, j-1]) + distances[i, j]"
   ]
  },
  {
   "cell_type": "code",
   "execution_count": 16,
   "metadata": {},
   "outputs": [
    {
     "data": {
      "image/png": "[encoded data removed]",
      "text/plain": [
       "<matplotlib.figure.Figure at 0x15b340509e8>"
      ]
     },
     "metadata": {},
     "output_type": "display_data"
    }
   ],
   "source": [
    "distance_cost_heatmap(accumulated_cost)"
   ]
  },
  {
   "cell_type": "code",
   "execution_count": 19,
   "metadata": {},
   "outputs": [
    {
     "name": "stdout",
     "output_type": "stream",
     "text": [
      "\\begin{tabular}{lrrrrrr}\n",
      "\\toprule\n",
      "{} &     0 &    1 &    2 &    3 &    4 &     5 \\\\\n",
      "\\midrule\n",
      "0 &   1.0 &  3.0 &  4.0 &  8.0 &  8.0 &   8.0 \\\\\n",
      "1 &   2.0 &  3.0 &  4.0 &  8.0 &  8.0 &   8.0 \\\\\n",
      "2 &   5.0 &  2.0 &  5.0 &  6.0 &  8.0 &  10.0 \\\\\n",
      "3 &   5.0 &  5.0 &  2.0 &  7.0 &  7.0 &   8.0 \\\\\n",
      "4 &  10.0 &  7.0 &  7.0 &  2.0 &  6.0 &  10.0 \\\\\n",
      "5 &  11.0 &  9.0 &  8.0 &  6.0 &  2.0 &   2.0 \\\\\n",
      "\\bottomrule\n",
      "\\end{tabular}\n",
      "\n"
     ]
    }
   ],
   "source": [
    "\n",
    "print(pd.DataFrame(accumulated_cost).to_latex())"
   ]
  },
  {
   "cell_type": "markdown",
   "metadata": {},
   "source": [
    "## 2.3 DTW - Find Backtracking path "
   ]
  },
  {
   "cell_type": "code",
   "execution_count": 20,
   "metadata": {},
   "outputs": [],
   "source": [
    "path = path_cost(A, B , accumulated_cost, distances)[0]\n",
    "\n",
    "path_a = [point[0] for point in path]\n",
    "path_b = [point[1] for point in path]"
   ]
  },
  {
   "cell_type": "code",
   "execution_count": 21,
   "metadata": {},
   "outputs": [
    {
     "data": {
      "image/png": "[encoded data removed]",
      "text/plain": [
       "<Figure size 432x288 with 2 Axes>"
      ]
     },
     "metadata": {
      "needs_background": "light"
     },
     "output_type": "display_data"
    }
   ],
   "source": [
    "plt.plot(path_a, path_b)\n",
    "distance_cost_heatmap(accumulated_cost)"
   ]
  },
  {
   "cell_type": "code",
   "execution_count": 21,
   "metadata": {},
   "outputs": [
    {
     "data": {
      "text/plain": [
       "2.0"
      ]
     },
     "execution_count": 21,
     "metadata": {},
     "output_type": "execute_result"
    }
   ],
   "source": [
    "path_cost(A, B , accumulated_cost, distances)[1]"
   ]
  },
  {
   "cell_type": "code",
   "execution_count": 22,
   "metadata": {},
   "outputs": [
    {
     "data": {
      "image/png": "[encoded data removed]",
      "text/plain": [
       "<matplotlib.figure.Figure at 0x15b340294a8>"
      ]
     },
     "metadata": {},
     "output_type": "display_data"
    }
   ],
   "source": [
    "plot_dtw_distances(A, B , accumulated_cost, distances)"
   ]
  },
  {
   "cell_type": "code",
   "execution_count": 23,
   "metadata": {},
   "outputs": [
    {
     "name": "stdout",
     "output_type": "stream",
     "text": [
      "[[5, 5], [4, 5], [3, 4], [2, 3], [1, 2], [0, 1], [0, 0]]\n"
     ]
    }
   ],
   "source": [
    "print(path_cost(A, B , accumulated_cost, distances)[0])"
   ]
  },
  {
   "cell_type": "code",
   "execution_count": null,
   "metadata": {
    "collapsed": true
   },
   "outputs": [],
   "source": []
  },
  {
   "cell_type": "code",
   "execution_count": 25,
   "metadata": {},
   "outputs": [
    {
     "data": {
      "text/plain": [
       "(6, 6)"
      ]
     },
     "execution_count": 25,
     "metadata": {},
     "output_type": "execute_result"
    }
   ],
   "source": [
    "accumulated_cost.shape"
   ]
  },
  {
   "cell_type": "code",
   "execution_count": null,
   "metadata": {
    "collapsed": true
   },
   "outputs": [],
   "source": []
  }
 ],
 "metadata": {
  "kernelspec": {
   "display_name": "Python 3",
   "language": "python",
   "name": "python3"
  },
  "language_info": {
   "codemirror_mode": {
    "name": "ipython",
    "version": 3
   },
   "file_extension": ".py",
   "mimetype": "text/x-python",
   "name": "python",
   "nbconvert_exporter": "python",
   "pygments_lexer": "ipython3",
   "version": "3.7.5"
  }
 },
 "nbformat": 4,
 "nbformat_minor": 2
}
