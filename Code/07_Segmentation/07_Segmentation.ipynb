{
 "cells": [
  {
   "cell_type": "markdown",
   "metadata": {},
   "source": [
    "# Intelligent Systems\n",
    "# Exercise 07 / Segmentation\n",
    "### Working Group: Intelligent Systems\n",
    "### Lecture: Prof. Dr.-Ing. habil.  Sven Tomforde\n",
    "### Exercise: Ma. Sc. Simon Reichhuber (mail to: [Simon.Reichhuber@informatik.uni-kiel.de](mailto:Simon.Reichhuber@informatik.uni-kiel.de))"
   ]
  },
  {
   "cell_type": "markdown",
   "metadata": {},
   "source": [
    " \n",
    "## Exercise 1 - Top-Down Segmentation"
   ]
  },
  {
   "cell_type": "code",
   "execution_count": null,
   "metadata": {},
   "outputs": [],
   "source": [
    "import numpy as np\n",
    "import matplotlib.pyplot as plt\n",
    "import math"
   ]
  },
  {
   "cell_type": "code",
   "execution_count": null,
   "metadata": {},
   "outputs": [],
   "source": [
    "timeseries = [1,2,1,5,2,1,2,2,7,6,5,4,3,2,1,0]\n",
    "parts = [] # Segmentation borders\n",
    "\n",
    "plt.plot(timeseries, 'ro')\n",
    "plt.show()"
   ]
  },
  {
   "cell_type": "code",
   "execution_count": null,
   "metadata": {},
   "outputs": [],
   "source": [
    "# Calculate approximation error (here with constant c)\n",
    "def approx_error(timeseries):\n",
    "    # c as mean\n",
    "    c = 0\n",
    "    c = np.mean(timeseries)\n",
    "    \n",
    "    approx_error = 0\n",
    "\n",
    "    for item in timeseries: \n",
    "           approx_error = approx_error + np.abs(c - item)\n",
    "        \n",
    "    return approx_error\n"
   ]
  },
  {
   "cell_type": "code",
   "execution_count": null,
   "metadata": {},
   "outputs": [],
   "source": [
    "# Calculate approximation error (here with linear function)\n",
    "# rounded off to the third decimal place.\n",
    "\n",
    "def approx_error2(timeseries):\n",
    "    if 1 == len(timeseries):\n",
    "        return 0\n",
    "    \n",
    "    x = []\n",
    "    for i in range(len(timeseries)):\n",
    "        x.append(i)   \n",
    "    y = timeseries\n",
    "\n",
    "    # linear approximation\n",
    "    mc = np.polyfit(x,y,1)\n",
    "    m = np.round(mc[0], 3)\n",
    "    c = np.round(mc[1], 3)\n",
    "    \n",
    "    # Calculate error\n",
    "    approx_error = 0\n",
    "    for i in range(len(timeseries)):\n",
    "        geraden_punkt = m*i+c\n",
    "        error = np.abs(geraden_punkt - timeseries[i] )\n",
    "        approx_error = approx_error + error\n",
    "        \n",
    "    approx_error = np.round(approx_error, 3)\n",
    "    \n",
    "    return approx_error"
   ]
  },
  {
   "cell_type": "code",
   "execution_count": null,
   "metadata": {},
   "outputs": [],
   "source": [
    "# TEST\n",
    "print(approx_error(timeseries))\n",
    "print(approx_error2(timeseries))"
   ]
  },
  {
   "cell_type": "code",
   "execution_count": null,
   "metadata": {},
   "outputs": [],
   "source": [
    "plt.plot(timeseries, 'ro')\n",
    "for i in parts:\n",
    "    # don't visualise last segmentation\n",
    "    if i < len(timeseries):\n",
    "        plt.axvline(i-0.5, color='black')\n",
    "plt.title(\"Top-Down segmentation with constant\")\n",
    "plt.show()"
   ]
  },
  {
   "cell_type": "code",
   "execution_count": null,
   "metadata": {},
   "outputs": [],
   "source": [
    "# Find optimal separation\n",
    "# Here: Top-Down with Polynom of degree 1 \n",
    "parts=[]\n",
    "timeseries = [1,2,1,5,2,1,2,2,7,6,5,4,3,2,1,0]\n",
    "\n",
    "def topDown(timeseries, offset):\n",
    "    best_error = math.inf\n",
    "    partition = 0\n",
    "    \n",
    "    for i in range(len(timeseries)):\n",
    "        if i > 0:\n",
    "            error_left = (approx_error2(timeseries[:i]))\n",
    "            error_right = (approx_error2(timeseries[i:]))\n",
    "            \n",
    "            if best_error > error_left + error_right:\n",
    "                best_error = error_left + error_right\n",
    "                partition = i\n",
    "    \n",
    "    parts.append(partition + offset)\n",
    "    parts.sort()\n",
    "    \n",
    "    error_left = (approx_error2(timeseries[:partition]))\n",
    "    error_right = (approx_error2(timeseries[partition:]))\n",
    "    \n",
    "    if error_left > 1:\n",
    "        topDown(timeseries[:partition], offset)\n",
    "    if error_right > 1:\n",
    "       topDown(timeseries[partition:], partition + offset)"
   ]
  },
  {
   "cell_type": "code",
   "execution_count": null,
   "metadata": {},
   "outputs": [],
   "source": [
    "topDown(timeseries, 0)"
   ]
  },
  {
   "cell_type": "code",
   "execution_count": null,
   "metadata": {},
   "outputs": [],
   "source": [
    "plt.plot(timeseries, 'ro')\n",
    "for i in parts:\n",
    "    # don't visualise last segmentation\n",
    "    if i < len(timeseries):\n",
    "        plt.axvline(i-0.5, color='black')\n",
    "plt.title(\"Top-Down segmentation of polynom of degree 1\")\n",
    "plt.show()"
   ]
  },
  {
   "cell_type": "markdown",
   "metadata": {},
   "source": [
    "## Aufgabe 2 - Bottom-Up Segmentierung"
   ]
  },
  {
   "cell_type": "code",
   "execution_count": null,
   "metadata": {},
   "outputs": [],
   "source": [
    "timeseries = [1,2,1,5,2,1,2,2,7,6,5,4,3,2,1,0]\n",
    "\n",
    "plt.plot(timeseries, 'ro')\n",
    "for i in range(len(timeseries)-1):\n",
    "    plt.axvline(i+0.5, color='black')\n",
    "\n",
    "plt.show()"
   ]
  },
  {
   "cell_type": "code",
   "execution_count": null,
   "metadata": {},
   "outputs": [],
   "source": [
    "parts = []\n",
    "\n",
    "# Bottom-Up approach with constant\n",
    "def bottumUp(timeseries, start):\n",
    "    # add new start segment\n",
    "    temp = []\n",
    "    temp.append(timeseries[start])\n",
    "    bool = True\n",
    "    \n",
    "    # if start is last element --> add it to parts\n",
    "    if start == len(timeseries)-1:\n",
    "        parts.append(start+1)\n",
    "    # otherwise add 1 as long as approximation error is above 1\n",
    "    while bool:\n",
    "        start = start + 1\n",
    "        # if start is not the last element add another element\n",
    "        if start < len(timeseries):\n",
    "            temp.append(timeseries[start])\n",
    "            # check if error is above 1\n",
    "            if approx_error(temp) > 1:\n",
    "                # if yes, remove last element and call function recursively\n",
    "                del temp[len(temp)-1]\n",
    "                parts.append(start)\n",
    "                bottumUp(timeseries, start)\n",
    "                bool = False\n",
    "        else:\n",
    "            parts.append(start)\n",
    "            bool = False"
   ]
  },
  {
   "cell_type": "code",
   "execution_count": null,
   "metadata": {},
   "outputs": [],
   "source": [
    "bottumUp(timeseries, 0)"
   ]
  },
  {
   "cell_type": "code",
   "execution_count": null,
   "metadata": {},
   "outputs": [],
   "source": [
    "plt.plot(timeseries, 'ro')\n",
    "for i in parts:\n",
    "    # don't visualise the last segment\n",
    "    if i < len(timeseries):\n",
    "        plt.axvline(i-0.5, color='black')\n",
    "plt.title(\"Bottom-up segmentation with constant\")\n",
    "plt.show()"
   ]
  },
  {
   "cell_type": "code",
   "execution_count": null,
   "metadata": {},
   "outputs": [],
   "source": [
    "parts = []\n",
    "# Bottom-Up approach with polynom of degree 1\n",
    "\n",
    "def bottumUp2(timeseries, start):\n",
    "    # add new start segment\n",
    "    temp = []\n",
    "    temp.append(timeseries[start])\n",
    "    bool = True\n",
    "    \n",
    "    # if start is last element --> add it to parts\n",
    "    if start == len(timeseries)-1:\n",
    "        parts.append(start+1)\n",
    "    # otherwise add 1 as long as approximation error is above 1\n",
    "    while bool:\n",
    "        start = start + 1\n",
    "        # if start is not the last element add another element\n",
    "        if start < len(timeseries):\n",
    "            temp.append(timeseries[start])\n",
    "            # check if error is above 1\n",
    "            if approx_error2(temp) > 1:\n",
    "                # if yes, remove last element and call function recursively\n",
    "                del temp[len(temp)-1]\n",
    "                parts.append(start)\n",
    "                bottumUp2(timeseries, start)\n",
    "                bool = False\n",
    "        else:\n",
    "            parts.append(start)\n",
    "            bool = False"
   ]
  },
  {
   "cell_type": "code",
   "execution_count": null,
   "metadata": {},
   "outputs": [],
   "source": [
    "bottumUp2(timeseries, 0)"
   ]
  },
  {
   "cell_type": "code",
   "execution_count": null,
   "metadata": {},
   "outputs": [],
   "source": [
    "plt.plot(timeseries, 'ro')\n",
    "for i in parts:\n",
    "    # die letzte Aufteilung nicht mehr zeichnen \n",
    "    if i < len(timeseries):\n",
    "        plt.axvline(i-0.5, color='black')\n",
    "plt.title(\"Bottum-Up segmentation of polynom of degree 1\")\n",
    "plt.show()"
   ]
  }
 ],
 "metadata": {
  "kernelspec": {
   "display_name": "Python 3",
   "language": "python",
   "name": "python3"
  },
  "language_info": {
   "codemirror_mode": {
    "name": "ipython",
    "version": 3
   },
   "file_extension": ".py",
   "mimetype": "text/x-python",
   "name": "python",
   "nbconvert_exporter": "python",
   "pygments_lexer": "ipython3",
   "version": "3.7.4"
  }
 },
 "nbformat": 4,
 "nbformat_minor": 2
}
