{
 "cells": [
  {
   "cell_type": "markdown",
   "metadata": {},
   "source": [
    "# Intelligent Systems\n",
    "# Exercise 07 / Similarities\n",
    "### Working Group: Intelligent Systems\n",
    "### Lecture: Prof. Dr.-Ing. habil.  Sven Tomforde\n",
    "### Exercise: Ma. Sc. Simon Reichhuber (mail to: [Simon.Reichhuber@informatik.uni-kiel.de](mailto:Simon.Reichhuber@informatik.uni-kiel.de))"
   ]
  },
  {
   "cell_type": "code",
   "execution_count": 15,
   "metadata": {},
   "outputs": [],
   "source": [
    "import scipy.spatial.distance as dist\n",
    "import pandas as pd\n",
    "import numpy as np\n",
    "import matplotlib.pyplot as plt\n",
    "import seaborn as sns\n",
    "import math"
   ]
  },
  {
   "cell_type": "markdown",
   "metadata": {},
   "source": [
    "-----"
   ]
  },
  {
   "cell_type": "code",
   "execution_count": 3,
   "metadata": {},
   "outputs": [],
   "source": [
    "# Nothing to do here\n",
    "def path_cost(A, B, accumulated_cost, distances):\n",
    "    \"\"\"Method for backtrackign algorithm and calculation of overall distance.\"\"\"\n",
    "    \n",
    "    path = [[len(A)-1, len(B)-1]]\n",
    "    cost = 0\n",
    "    i = len(B)-1\n",
    "    j = len(A)-1\n",
    "    while i>0 and j>0:\n",
    "        if i==0:\n",
    "            j = j - 1\n",
    "        elif j==0:\n",
    "            i = i - 1\n",
    "        else:\n",
    "            if accumulated_cost[i-1, j] == min(accumulated_cost[i-1, j-1], accumulated_cost[i-1, j], accumulated_cost[i, j-1]):\n",
    "                i = i - 1\n",
    "            elif accumulated_cost[i, j-1] == min(accumulated_cost[i-1, j-1], accumulated_cost[i-1, j], accumulated_cost[i, j-1]):\n",
    "                j = j-1\n",
    "            else:\n",
    "                i = i - 1\n",
    "                j= j- 1\n",
    "        path.append([j, i])\n",
    "    path.append([0,0])\n",
    "    for [B, A] in path:\n",
    "        cost = cost +distances[A, B]\n",
    "    return path, cost "
   ]
  },
  {
   "cell_type": "code",
   "execution_count": 4,
   "metadata": {},
   "outputs": [],
   "source": [
    "# Nothing ot do here\n",
    "def distance_cost_heatmap(distances):\n",
    "    \"\"\"Helper method to plot distance matrix as heatmap.\"\"\"\n",
    "        \n",
    "    im = plt.imshow(distances, interpolation='nearest', cmap=\"Reds\") \n",
    "    plt.gca().invert_yaxis()\n",
    "    plt.xlabel(\"A\")\n",
    "    plt.ylabel(\"B\")\n",
    "    plt.grid()\n",
    "    plt.colorbar()\n",
    "    plt.show()"
   ]
  },
  {
   "cell_type": "code",
   "execution_count": 5,
   "metadata": {},
   "outputs": [],
   "source": [
    "# Nothing to do here\n",
    "def plot_dtw_distances(A, B, accumulated_cost, distances):\n",
    "    \"\"\"Helper method for plotting DTW distnaces.\"\"\"\n",
    "    \n",
    "    plt.plot(A, 'bo-' ,label='A')\n",
    "    plt.plot(B, 'g^-', label = 'B')\n",
    "    plt.legend()\n",
    "    paths = path_cost(A, B, accumulated_cost, distances)[0]\n",
    "    for [map_a, map_b] in paths:  \n",
    "        plt.plot([map_a, map_b], [A[map_a], B[map_b]], 'r')\n",
    "    plt.show()"
   ]
  },
  {
   "cell_type": "markdown",
   "metadata": {},
   "source": [
    "----"
   ]
  },
  {
   "cell_type": "code",
   "execution_count": 6,
   "metadata": {},
   "outputs": [],
   "source": [
    "# Two Time Series\n",
    "A = [1, 1, 1, 3, 5, 3, 0, -3, -5, -3, 1, 1]\n",
    "B = [1, 3, 5, 3, 0, -3, -5, -3, 1, 1, 1, 1]"
   ]
  },
  {
   "cell_type": "code",
   "execution_count": 7,
   "metadata": {},
   "outputs": [
    {
     "data": {
      "image/png": "[encoded data removed]",
      "text/plain": [
       "<Figure size 432x288 with 1 Axes>"
      ]
     },
     "metadata": {
      "needs_background": "light"
     },
     "output_type": "display_data"
    }
   ],
   "source": [
    "plt.plot(A,'r', label='A')\n",
    "plt.plot(B, 'g', label='B')\n",
    "plt.legend()\n",
    "plt.show()"
   ]
  },
  {
   "cell_type": "markdown",
   "metadata": {},
   "source": [
    "# 1. Calculate the similarity of the two time series"
   ]
  },
  {
   "cell_type": "code",
   "execution_count": 30,
   "metadata": {},
   "outputs": [
    {
     "name": "stdout",
     "output_type": "stream",
     "text": [
      "12.569805089976535\n"
     ]
    }
   ],
   "source": [
    "# Perform distance measurements \n",
    "total = 0\n",
    "for i in range(0, len(A)):\n",
    "    total += ((A[i] - B[i]) * (A[i] - B[i]))\n",
    "print(math.sqrt(total))\n",
    "\n",
    "#Two Time Series\n",
    "# A = [1, 1, 1, 3, 5, 3, 0, -3, -5, -3, 1, 1]\n",
    "# B = [1, 3, 5, 3, 0, -3, -5, -3, 1, 1, 1, 1]\n",
    "#Euclidean distance 12.569805089976535   \n",
    "#ManHutton Distance 32"
   ]
  },
  {
   "cell_type": "code",
   "execution_count": 31,
   "metadata": {},
   "outputs": [
    {
     "name": "stdout",
     "output_type": "stream",
     "text": [
      "\n",
      "Distance measurements with 10-dimensional vectors\n",
      "-------------------------------------------------\n",
      "\n",
      "Euclidean distance is 10.1980390272\n",
      "Manhattan distance is 20\n",
      "Chebyshev distance is 7\n",
      "Canberra distance is 5.0\n",
      "Cosine distance is 1.48891771226\n"
     ]
    }
   ],
   "source": [
    "# Perform distance measurements \n"
   ]
  },
  {
   "cell_type": "markdown",
   "metadata": {},
   "source": [
    "### Implementiere als nächstes den DTW Algorithmus und Vergleiche die Ergebnisse aus Schritt eins. Warum ist die Verwendung von DTW hier sinnvoll?\n"
   ]
  },
  {
   "cell_type": "markdown",
   "metadata": {},
   "source": [
    "# 2. Use Dynamic Time Warping"
   ]
  },
  {
   "cell_type": "markdown",
   "metadata": {},
   "source": [
    "Dynamic Time Warning (DTW) seeks an optimal alignment between the two time series without assuming that the underlying processes happened at the same <b>speed</b> or for the same amount of time. In other words, the DTW algorithm stretches or compresses two non-linear sequences in making its comparison. This makes it possible to find similarities between sequences that have differences in length, are not in phase, and/or are warped representations of each other:"
   ]
  },
  {
   "cell_type": "markdown",
   "metadata": {},
   "source": [
    "![title](dtw.jpg)"
   ]
  },
  {
   "cell_type": "markdown",
   "metadata": {},
   "source": [
    "## 2.1. DTW - Create distance matrix"
   ]
  },
  {
   "cell_type": "code",
   "execution_count": 16,
   "metadata": {
    "collapsed": true
   },
   "outputs": [],
   "source": []
  },
  {
   "cell_type": "code",
   "execution_count": 17,
   "metadata": {},
   "outputs": [
    {
     "data": {
      "image/png": "[encoded data removed]",
      "text/plain": [
       "<matplotlib.figure.Figure at 0x7fd3ef25b9e8>"
      ]
     },
     "metadata": {},
     "output_type": "display_data"
    }
   ],
   "source": [
    "distance_cost_heatmap(distances)"
   ]
  },
  {
   "cell_type": "markdown",
   "metadata": {},
   "source": [
    "## 2.2 DTW - Create accumulated cost matrix"
   ]
  },
  {
   "cell_type": "code",
   "execution_count": 19,
   "metadata": {
    "collapsed": true
   },
   "outputs": [],
   "source": []
  },
  {
   "cell_type": "code",
   "execution_count": 20,
   "metadata": {},
   "outputs": [
    {
     "data": {
      "image/png": "[encoded data removed]",
      "text/plain": [
       "<matplotlib.figure.Figure at 0x7fd3ef122b38>"
      ]
     },
     "metadata": {},
     "output_type": "display_data"
    }
   ],
   "source": [
    "distance_cost_heatmap(accumulated_cost)"
   ]
  },
  {
   "cell_type": "markdown",
   "metadata": {},
   "source": [
    "## 2.3 DTW - Find Backtracking path "
   ]
  },
  {
   "cell_type": "code",
   "execution_count": 21,
   "metadata": {
    "collapsed": true
   },
   "outputs": [],
   "source": []
  },
  {
   "cell_type": "code",
   "execution_count": 22,
   "metadata": {},
   "outputs": [
    {
     "data": {
      "image/png": "[encoded data removed]",
      "text/plain": [
       "<matplotlib.figure.Figure at 0x7fd3ef117390>"
      ]
     },
     "metadata": {},
     "output_type": "display_data"
    }
   ],
   "source": [
    "plt.plot(path_a, path_b)\n",
    "distance_cost_heatmap(accumulated_cost)"
   ]
  },
  {
   "cell_type": "code",
   "execution_count": 23,
   "metadata": {},
   "outputs": [
    {
     "data": {
      "image/png": "[encoded data removed]",
      "text/plain": [
       "<matplotlib.figure.Figure at 0x7fd3ef09a470>"
      ]
     },
     "metadata": {},
     "output_type": "display_data"
    }
   ],
   "source": [
    "plot_dtw_distances(A, B , accumulated_cost, distances)"
   ]
  }
 ],
 "metadata": {
  "kernelspec": {
   "display_name": "Python 3",
   "language": "python",
   "name": "python3"
  },
  "language_info": {
   "codemirror_mode": {
    "name": "ipython",
    "version": 3
   },
   "file_extension": ".py",
   "mimetype": "text/x-python",
   "name": "python",
   "nbconvert_exporter": "python",
   "pygments_lexer": "ipython3",
   "version": "3.7.5"
  }
 },
 "nbformat": 4,
 "nbformat_minor": 2
}
